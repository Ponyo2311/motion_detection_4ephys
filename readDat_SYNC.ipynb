{
 "cells": [
  {
   "cell_type": "markdown",
   "id": "7fd249cc-d9fb-40b1-9c62-62bda1a7866c",
   "metadata": {},
   "source": [
    "# **Read Dat files, extract SYNC, PRODUCE sync for the rest from npy files**\n",
    "## MAEVA rats"
   ]
  },
  {
   "cell_type": "markdown",
   "id": "683634c4-b673-4e9c-a7ce-08002c2f815f",
   "metadata": {},
   "source": [
    "## **DOCUMENTATION OPEN EPHYS**\n",
    "https://open-ephys.github.io/gui-docs/User-Manual/Plugins/Neuropixels-PXI.html"
   ]
  },
  {
   "cell_type": "code",
   "execution_count": 1,
   "id": "86ed6ebd-25de-4288-a892-0d2d692339ca",
   "metadata": {},
   "outputs": [],
   "source": [
    "import numpy as np\n",
    "import os"
   ]
  },
  {
   "cell_type": "code",
   "execution_count": 44,
   "id": "2a25b4d0-c8f6-4e20-8f7a-75bceadfca5f",
   "metadata": {},
   "outputs": [],
   "source": [
    "os.chdir(\"/media/data-116/Dax/1.Data/2021-05-25_12-32-00/Record Node 102/experiment1/recording1/events/Neuropix-PXI-100.1/TTL_2\")"
   ]
  },
  {
   "cell_type": "code",
   "execution_count": 30,
   "id": "1e806015-cb5d-4832-93be-2c06baea019b",
   "metadata": {},
   "outputs": [],
   "source": [
    "TTL2_folder=\"/media/data-116/Dax/1.Data/2021-05-25_12-32-00/Record Node 102/experiment1/recording1/events/Neuropix-PXI-100.1/TTL_2\""
   ]
  },
  {
   "cell_type": "code",
   "execution_count": 10,
   "id": "51977a0b-8cc2-4d0f-9ac8-47f7fd7cdf37",
   "metadata": {},
   "outputs": [
    {
     "data": {
      "text/plain": [
       "['channel_states.npy', 'channels.npy', 'full_words.npy', 'timestamps.npy']"
      ]
     },
     "execution_count": 10,
     "metadata": {},
     "output_type": "execute_result"
    }
   ],
   "source": [
    "os.listdir()"
   ]
  },
  {
   "cell_type": "markdown",
   "id": "4fa73dca-26a5-4ecc-9dba-846995d90d33",
   "metadata": {},
   "source": [
    "## FILES FROM TTL_2"
   ]
  },
  {
   "cell_type": "code",
   "execution_count": 23,
   "id": "ada9421c-d529-4c9b-b983-dc05b39c5265",
   "metadata": {},
   "outputs": [],
   "source": [
    "samp_freq_lfp=25 ##!!!!!!! the sampling freq is 25 in TTL_2"
   ]
  },
  {
   "cell_type": "markdown",
   "id": "00abd4b8-e320-4aed-aea5-46113f5c7cf3",
   "metadata": {},
   "source": [
    "### TIMESTAMP_events"
   ]
  },
  {
   "cell_type": "code",
   "execution_count": 45,
   "id": "6bafada4-29cd-48e9-9390-56d2ec2c10dc",
   "metadata": {},
   "outputs": [],
   "source": [
    "timestamps_events=np.load(\"timestamps.npy\")"
   ]
  },
  {
   "cell_type": "code",
   "execution_count": 54,
   "id": "3bbe2d28-e517-40f3-a390-6e7c150f68d8",
   "metadata": {},
   "outputs": [
    {
     "data": {
      "text/plain": [
       "array([1245560, 1245585, 1245660, 1245685, 1245760, 1245785, 1245860,\n",
       "       1245885, 1245960, 1245985, 1246060, 1246085, 1246160, 1246185,\n",
       "       1246260, 1246285, 1246360, 1246385, 1246460, 1246485])"
      ]
     },
     "execution_count": 54,
     "metadata": {},
     "output_type": "execute_result"
    }
   ],
   "source": [
    "timestamps_events[:20]"
   ]
  },
  {
   "cell_type": "code",
   "execution_count": 46,
   "id": "8f0da6ab-8189-43a3-a34f-6f04619cb936",
   "metadata": {},
   "outputs": [
    {
     "data": {
      "text/plain": [
       "11.98938888888889"
      ]
     },
     "execution_count": 46,
     "metadata": {},
     "output_type": "execute_result"
    }
   ],
   "source": [
    "len(timestamps_events)/(samp_freq_lfp*3600*2) #= time of video (~12h) \n",
    "\n",
    "#it's a point per frame in vid"
   ]
  },
  {
   "cell_type": "code",
   "execution_count": 47,
   "id": "9b705a5f-55ba-4dae-ae28-3efba5920195",
   "metadata": {},
   "outputs": [
    {
     "data": {
      "text/plain": [
       "array([25, 75, 25, 75, 25, 75, 25, 75, 25, 75])"
      ]
     },
     "execution_count": 47,
     "metadata": {},
     "output_type": "execute_result"
    }
   ],
   "source": [
    "#diff the timestamp\n",
    "timestamps_diffed=np.diff(timestamps_events)\n",
    "timestamps_diffed[:10]"
   ]
  },
  {
   "cell_type": "markdown",
   "id": "8ad7dc29-2639-4d50-b9ba-6cdadcfc9364",
   "metadata": {},
   "source": [
    "### FULL_WORDS"
   ]
  },
  {
   "cell_type": "code",
   "execution_count": 16,
   "id": "66135d28-6ef6-4b60-886e-668120158f47",
   "metadata": {},
   "outputs": [],
   "source": [
    "full_words=np.load(\"full_words.npy\")"
   ]
  },
  {
   "cell_type": "code",
   "execution_count": 17,
   "id": "93d3aacd-c86d-45a2-be1e-d82d4de8e4b9",
   "metadata": {},
   "outputs": [
    {
     "data": {
      "text/plain": [
       "array([0, 1, 0, 1, 0, 1, 0, 1, 0, 1, 0, 1, 0, 1, 0, 1, 0, 1, 0, 1],\n",
       "      dtype=uint8)"
      ]
     },
     "execution_count": 17,
     "metadata": {},
     "output_type": "execute_result"
    }
   ],
   "source": [
    "full_words[:20]"
   ]
  },
  {
   "cell_type": "code",
   "execution_count": 20,
   "id": "82e5d0f3-ac4f-4892-87c8-a56d7012b689",
   "metadata": {},
   "outputs": [
    {
     "data": {
      "text/plain": [
       "863.236"
      ]
     },
     "execution_count": 20,
     "metadata": {},
     "output_type": "execute_result"
    }
   ],
   "source": [
    "len(full_words)/samp_freq_lfp #??? shouldn't be longer?"
   ]
  },
  {
   "cell_type": "markdown",
   "id": "e5fde257-8b8d-49dc-92c7-663fec61be7e",
   "metadata": {},
   "source": [
    "### CHANNEL_STATES\n",
    "+ the same as full_words (excpet instead -1 you have 0 in full_words)"
   ]
  },
  {
   "cell_type": "code",
   "execution_count": 26,
   "id": "26347cde-554b-4ffd-aa97-deeddca22971",
   "metadata": {},
   "outputs": [],
   "source": [
    "channel_states=np.load(\"channel_states.npy\")"
   ]
  },
  {
   "cell_type": "code",
   "execution_count": 27,
   "id": "275907a9-6c34-40b7-a318-316b3e2f812e",
   "metadata": {},
   "outputs": [
    {
     "data": {
      "text/plain": [
       "array([-1,  1, -1,  1, -1,  1, -1,  1, -1,  1, -1,  1, -1,  1, -1,  1, -1,\n",
       "        1, -1,  1], dtype=int16)"
      ]
     },
     "execution_count": 27,
     "metadata": {},
     "output_type": "execute_result"
    }
   ],
   "source": [
    "channel_states[:20]"
   ]
  },
  {
   "cell_type": "markdown",
   "id": "5c903d1f-86b2-4428-9c0a-6d3841b32f13",
   "metadata": {},
   "source": [
    "## TIMESTAMP_LFP (from continuous)"
   ]
  },
  {
   "cell_type": "code",
   "execution_count": 48,
   "id": "c944b367-2afe-4ed6-8718-dda374d30ab3",
   "metadata": {},
   "outputs": [],
   "source": [
    "lfp_tmp_folder=\"/media/data-116/Dax/1.Data/2021-05-25_12-32-00/Record Node 102/experiment1/recording1/continuous/Neuropix-PXI-100.1\""
   ]
  },
  {
   "cell_type": "code",
   "execution_count": 49,
   "id": "4980d7c9-9894-49f0-83b5-98221c6dac11",
   "metadata": {},
   "outputs": [],
   "source": [
    "os.chdir(lfp_tmp_folder)"
   ]
  },
  {
   "cell_type": "code",
   "execution_count": 50,
   "id": "06fc2f4c-24aa-46a9-8d5c-b0f6324fbc4e",
   "metadata": {},
   "outputs": [],
   "source": [
    "timestamps_lfp=np.load(\"timestamps.npy\")"
   ]
  },
  {
   "cell_type": "markdown",
   "id": "ee3ed97f-76ee-44e7-9f41-3f175fe07cb3",
   "metadata": {},
   "source": [
    "## Caculate videoframe timepoints"
   ]
  },
  {
   "cell_type": "code",
   "execution_count": 57,
   "id": "b6d9a752-6a33-4153-af80-a786637175cd",
   "metadata": {},
   "outputs": [],
   "source": [
    "timestamps_video_frames = timestamps_events[channel_states == 1] - timestamps_lfp[0] - 1"
   ]
  },
  {
   "cell_type": "markdown",
   "id": "5ef4a2e4-93be-4767-b85a-7c860c89c851",
   "metadata": {},
   "source": [
    "----------------------------------------------------------------------------------------------------------------\n",
    "\n",
    "# **Mathias**\n",
    "rat W672\n",
    "\n",
    "-------------------------------------------------------------------------------------------------------------"
   ]
  },
  {
   "cell_type": "code",
   "execution_count": 11,
   "id": "d93d448a-7e95-44c9-9313-d117356ae75c",
   "metadata": {},
   "outputs": [],
   "source": [
    "os.chdir(\"/media/data-113/2021-12-07_11-36-19/RecordNode101/experiment1/recording1/events/Neuropix-PXI-100.1/TTL_2/\")"
   ]
  },
  {
   "cell_type": "code",
   "execution_count": 5,
   "id": "d31f16af-b61d-44f0-9d29-68df711f67b3",
   "metadata": {},
   "outputs": [],
   "source": [
    "TTL2_folder=\"/media/data-113/2021-12-07_11-36-19/RecordNode101/experiment1/recording1/events/Neuropix-PXI-100.1/TTL_2/\""
   ]
  },
  {
   "cell_type": "code",
   "execution_count": 8,
   "id": "3e78c1ac-7263-49ac-966c-62620813a935",
   "metadata": {},
   "outputs": [
    {
     "data": {
      "text/plain": [
       "['channel_states.npy', 'channels.npy', 'timestamps.npy', 'full_words.npy']"
      ]
     },
     "execution_count": 8,
     "metadata": {},
     "output_type": "execute_result"
    }
   ],
   "source": [
    "os.listdir(\"./TTL_2/\")"
   ]
  },
  {
   "cell_type": "markdown",
   "id": "68ad1050-8c60-4cbf-b4f3-ce1c0dede252",
   "metadata": {},
   "source": [
    "## FILES FROM TTL_2"
   ]
  },
  {
   "cell_type": "code",
   "execution_count": 9,
   "id": "f4145b8f-7ca8-4a78-b31f-16d0fc4594b9",
   "metadata": {},
   "outputs": [],
   "source": [
    "samp_freq_lfp=25 ##!!!!!!! the sampling freq is 25 in TTL_2"
   ]
  },
  {
   "cell_type": "markdown",
   "id": "a5c1df88-ab2d-44ee-ad75-3fdd78b5e923",
   "metadata": {},
   "source": [
    "### TIMESTAMP_events"
   ]
  },
  {
   "cell_type": "code",
   "execution_count": 12,
   "id": "15f39998-c403-432a-9b75-04b332848e41",
   "metadata": {},
   "outputs": [],
   "source": [
    "timestamps_events=np.load(\"timestamps.npy\")"
   ]
  },
  {
   "cell_type": "code",
   "execution_count": 13,
   "id": "3930a7cc-a41e-462b-b063-1b1fb21fe8c2",
   "metadata": {},
   "outputs": [
    {
     "data": {
      "text/plain": [
       "array([13861, 13886, 13961, 13986, 14061, 14086, 14161, 14186, 14261,\n",
       "       14286, 14361, 14386, 14461, 14486, 14561, 14587, 14662, 14687,\n",
       "       14762, 14787])"
      ]
     },
     "execution_count": 13,
     "metadata": {},
     "output_type": "execute_result"
    }
   ],
   "source": [
    "timestamps_events[:20]"
   ]
  },
  {
   "cell_type": "code",
   "execution_count": 14,
   "id": "e0a6747c-806a-47c1-bbaa-d5e11a48a582",
   "metadata": {},
   "outputs": [
    {
     "data": {
      "text/plain": [
       "4.9082333333333334"
      ]
     },
     "execution_count": 14,
     "metadata": {},
     "output_type": "execute_result"
    }
   ],
   "source": [
    "len(timestamps_events)/(samp_freq_lfp*3600*2) #= time of video (~12h) \n",
    "\n",
    "#it's a point per frame in vid"
   ]
  },
  {
   "cell_type": "code",
   "execution_count": 15,
   "id": "1630ed6e-a6c3-49c7-b4f8-dada88b8c5b9",
   "metadata": {},
   "outputs": [
    {
     "data": {
      "text/plain": [
       "array([25, 75, 25, 75, 25, 75, 25, 75, 25, 75])"
      ]
     },
     "execution_count": 15,
     "metadata": {},
     "output_type": "execute_result"
    }
   ],
   "source": [
    "#diff the timestamp\n",
    "timestamps_diffed=np.diff(timestamps_events)\n",
    "timestamps_diffed[:10]"
   ]
  },
  {
   "cell_type": "markdown",
   "id": "5389e38e-4c46-4858-961f-4864c235f454",
   "metadata": {},
   "source": [
    "### FULL_WORDS"
   ]
  },
  {
   "cell_type": "code",
   "execution_count": 16,
   "id": "96f75ddc-6704-4b96-9219-1d5c4ed51828",
   "metadata": {},
   "outputs": [],
   "source": [
    "full_words=np.load(\"full_words.npy\")"
   ]
  },
  {
   "cell_type": "code",
   "execution_count": 17,
   "id": "7732ca53-b22f-4700-9ccf-a0c7112cd922",
   "metadata": {},
   "outputs": [
    {
     "data": {
      "text/plain": [
       "array([1, 0, 1, 0, 1, 0, 1, 0, 1, 0, 1, 0, 1, 0, 1, 0, 1, 0, 1, 0],\n",
       "      dtype=uint8)"
      ]
     },
     "execution_count": 17,
     "metadata": {},
     "output_type": "execute_result"
    }
   ],
   "source": [
    "full_words[:20]"
   ]
  },
  {
   "cell_type": "code",
   "execution_count": 18,
   "id": "9174dca7-1520-469c-8f57-a07fec73b2fe",
   "metadata": {},
   "outputs": [
    {
     "data": {
      "text/plain": [
       "35339.28"
      ]
     },
     "execution_count": 18,
     "metadata": {},
     "output_type": "execute_result"
    }
   ],
   "source": [
    "len(full_words)/samp_freq_lfp #??? shouldn't be longer?"
   ]
  },
  {
   "cell_type": "markdown",
   "id": "45bb6c58-4f4a-4783-98c2-726ee23ff576",
   "metadata": {},
   "source": [
    "### CHANNEL_STATES\n",
    "+ the same as full_words (excpet instead -1 you have 0 in full_words)"
   ]
  },
  {
   "cell_type": "code",
   "execution_count": 19,
   "id": "958e919c-b7a0-4637-b3b1-7f9782f11c60",
   "metadata": {},
   "outputs": [],
   "source": [
    "channel_states=np.load(\"channel_states.npy\")"
   ]
  },
  {
   "cell_type": "code",
   "execution_count": 20,
   "id": "96a93562-fa60-417b-9258-c2e9d55d00c0",
   "metadata": {},
   "outputs": [
    {
     "data": {
      "text/plain": [
       "array([ 1, -1,  1, -1,  1, -1,  1, -1,  1, -1,  1, -1,  1, -1,  1, -1,  1,\n",
       "       -1,  1, -1], dtype=int16)"
      ]
     },
     "execution_count": 20,
     "metadata": {},
     "output_type": "execute_result"
    }
   ],
   "source": [
    "channel_states[:20]"
   ]
  },
  {
   "cell_type": "markdown",
   "id": "d619e86e-ffc2-436e-b123-da040f806987",
   "metadata": {},
   "source": [
    "## TIMESTAMP_LFP (from continuous)"
   ]
  },
  {
   "cell_type": "code",
   "execution_count": 21,
   "id": "14a06f99-0644-4a4a-811e-8a2c0cd9d5a8",
   "metadata": {},
   "outputs": [],
   "source": [
    "lfp_tmp_folder=\"/media/data-113/2021-12-07_11-36-19/RecordNode101/experiment1/recording1/continuous/Neuropix-PXI-100.1\""
   ]
  },
  {
   "cell_type": "code",
   "execution_count": 22,
   "id": "dbdfbe00-f283-42d3-ab5c-d881f1bf9aca",
   "metadata": {},
   "outputs": [],
   "source": [
    "os.chdir(lfp_tmp_folder)"
   ]
  },
  {
   "cell_type": "code",
   "execution_count": 23,
   "id": "f93925b0-1aa8-45f3-a9f1-088f4571df94",
   "metadata": {},
   "outputs": [],
   "source": [
    "timestamps_lfp=np.load(\"timestamps.npy\")"
   ]
  },
  {
   "cell_type": "code",
   "execution_count": 24,
   "id": "42925b96-6fe8-471f-8ffc-d757fc323b50",
   "metadata": {},
   "outputs": [
    {
     "data": {
      "text/plain": [
       "array([4117, 4118, 4119, 4120, 4121, 4122, 4123, 4124, 4125, 4126, 4127,\n",
       "       4128, 4129, 4130, 4131, 4132, 4133, 4134, 4135, 4136])"
      ]
     },
     "execution_count": 24,
     "metadata": {},
     "output_type": "execute_result"
    }
   ],
   "source": [
    "timestamps_lfp[:20]"
   ]
  },
  {
   "cell_type": "markdown",
   "id": "f56fdea8-7af6-4d3a-930e-90159edad87f",
   "metadata": {},
   "source": [
    "## Caculate videoframe timepoints"
   ]
  },
  {
   "cell_type": "code",
   "execution_count": 25,
   "id": "b45415d5-094f-4298-bcdc-11044be22d0d",
   "metadata": {},
   "outputs": [],
   "source": [
    "timestamps_video_frames = timestamps_events[channel_states == 1] - timestamps_lfp[0] - 1"
   ]
  },
  {
   "cell_type": "code",
   "execution_count": 26,
   "id": "13cd8ec7-b5de-4e3a-bdcc-be9667ed18d7",
   "metadata": {},
   "outputs": [
    {
     "data": {
      "text/plain": [
       "array([ 9743,  9843,  9943, 10043, 10143, 10243, 10343, 10443, 10544,\n",
       "       10644, 10744, 10844, 10944, 11044, 11144, 11244, 11344, 11444,\n",
       "       11544, 11644])"
      ]
     },
     "execution_count": 26,
     "metadata": {},
     "output_type": "execute_result"
    }
   ],
   "source": [
    "timestamps_video_frames[:20]"
   ]
  },
  {
   "cell_type": "code",
   "execution_count": null,
   "id": "4d1882f7-8bba-4956-b7cd-28e48830dd79",
   "metadata": {},
   "outputs": [],
   "source": []
  }
 ],
 "metadata": {
  "kernelspec": {
   "display_name": "vidpenv",
   "language": "python",
   "name": "vidpenv"
  },
  "language_info": {
   "codemirror_mode": {
    "name": "ipython",
    "version": 3
   },
   "file_extension": ".py",
   "mimetype": "text/x-python",
   "name": "python",
   "nbconvert_exporter": "python",
   "pygments_lexer": "ipython3",
   "version": "3.7.11"
  }
 },
 "nbformat": 4,
 "nbformat_minor": 5
}

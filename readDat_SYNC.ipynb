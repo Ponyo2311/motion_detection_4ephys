{
 "cells": [
  {
   "cell_type": "markdown",
   "id": "7fd249cc-d9fb-40b1-9c62-62bda1a7866c",
   "metadata": {},
   "source": [
    "# **Read Dat files, extract SYNC, PRODUCE sync for the rest from npy files**\n",
    "## MAEVA rats"
   ]
  },
  {
   "cell_type": "markdown",
   "id": "683634c4-b673-4e9c-a7ce-08002c2f815f",
   "metadata": {},
   "source": [
    "## **DOCUMENTATION OPEN EPHYS**\n",
    "https://open-ephys.github.io/gui-docs/User-Manual/Plugins/Neuropixels-PXI.html"
   ]
  },
  {
   "cell_type": "code",
   "execution_count": 2,
   "id": "86ed6ebd-25de-4288-a892-0d2d692339ca",
   "metadata": {},
   "outputs": [],
   "source": [
    "import numpy as np\n",
    "import os"
   ]
  },
  {
   "cell_type": "code",
   "execution_count": 44,
   "id": "2a25b4d0-c8f6-4e20-8f7a-75bceadfca5f",
   "metadata": {},
   "outputs": [],
   "source": [
    "os.chdir(\"/media/data-116/Dax/1.Data/2021-05-25_12-32-00/Record Node 102/experiment1/recording1/events/Neuropix-PXI-100.1/TTL_2\")"
   ]
  },
  {
   "cell_type": "code",
   "execution_count": 30,
   "id": "1e806015-cb5d-4832-93be-2c06baea019b",
   "metadata": {},
   "outputs": [],
   "source": [
    "TTL2_folder=\"/media/data-116/Dax/1.Data/2021-05-25_12-32-00/Record Node 102/experiment1/recording1/events/Neuropix-PXI-100.1/TTL_2\""
   ]
  },
  {
   "cell_type": "code",
   "execution_count": 10,
   "id": "51977a0b-8cc2-4d0f-9ac8-47f7fd7cdf37",
   "metadata": {},
   "outputs": [
    {
     "data": {
      "text/plain": [
       "['channel_states.npy', 'channels.npy', 'full_words.npy', 'timestamps.npy']"
      ]
     },
     "execution_count": 10,
     "metadata": {},
     "output_type": "execute_result"
    }
   ],
   "source": [
    "os.listdir()"
   ]
  },
  {
   "cell_type": "markdown",
   "id": "4fa73dca-26a5-4ecc-9dba-846995d90d33",
   "metadata": {},
   "source": [
    "## FILES FROM TTL_2"
   ]
  },
  {
   "cell_type": "code",
   "execution_count": 23,
   "id": "ada9421c-d529-4c9b-b983-dc05b39c5265",
   "metadata": {},
   "outputs": [],
   "source": [
    "samp_freq_lfp=25 ##!!!!!!! the sampling freq is 25 in TTL_2"
   ]
  },
  {
   "cell_type": "markdown",
   "id": "00abd4b8-e320-4aed-aea5-46113f5c7cf3",
   "metadata": {},
   "source": [
    "### TIMESTAMP_events"
   ]
  },
  {
   "cell_type": "code",
   "execution_count": 45,
   "id": "6bafada4-29cd-48e9-9390-56d2ec2c10dc",
   "metadata": {},
   "outputs": [],
   "source": [
    "timestamps_events=np.load(\"timestamps.npy\")"
   ]
  },
  {
   "cell_type": "code",
   "execution_count": 54,
   "id": "3bbe2d28-e517-40f3-a390-6e7c150f68d8",
   "metadata": {},
   "outputs": [
    {
     "data": {
      "text/plain": [
       "array([1245560, 1245585, 1245660, 1245685, 1245760, 1245785, 1245860,\n",
       "       1245885, 1245960, 1245985, 1246060, 1246085, 1246160, 1246185,\n",
       "       1246260, 1246285, 1246360, 1246385, 1246460, 1246485])"
      ]
     },
     "execution_count": 54,
     "metadata": {},
     "output_type": "execute_result"
    }
   ],
   "source": [
    "timestamps_events[:20]"
   ]
  },
  {
   "cell_type": "code",
   "execution_count": 46,
   "id": "8f0da6ab-8189-43a3-a34f-6f04619cb936",
   "metadata": {},
   "outputs": [
    {
     "data": {
      "text/plain": [
       "11.98938888888889"
      ]
     },
     "execution_count": 46,
     "metadata": {},
     "output_type": "execute_result"
    }
   ],
   "source": [
    "len(timestamps_events)/(samp_freq_lfp*3600*2) #= time of video (~12h) \n",
    "\n",
    "#it's a point per frame in vid"
   ]
  },
  {
   "cell_type": "code",
   "execution_count": 47,
   "id": "9b705a5f-55ba-4dae-ae28-3efba5920195",
   "metadata": {},
   "outputs": [
    {
     "data": {
      "text/plain": [
       "array([25, 75, 25, 75, 25, 75, 25, 75, 25, 75])"
      ]
     },
     "execution_count": 47,
     "metadata": {},
     "output_type": "execute_result"
    }
   ],
   "source": [
    "#diff the timestamp\n",
    "timestamps_diffed=np.diff(timestamps_events)\n",
    "timestamps_diffed[:10]"
   ]
  },
  {
   "cell_type": "markdown",
   "id": "8ad7dc29-2639-4d50-b9ba-6cdadcfc9364",
   "metadata": {},
   "source": [
    "### FULL_WORDS"
   ]
  },
  {
   "cell_type": "code",
   "execution_count": 16,
   "id": "66135d28-6ef6-4b60-886e-668120158f47",
   "metadata": {},
   "outputs": [],
   "source": [
    "full_words=np.load(\"full_words.npy\")"
   ]
  },
  {
   "cell_type": "code",
   "execution_count": 17,
   "id": "93d3aacd-c86d-45a2-be1e-d82d4de8e4b9",
   "metadata": {},
   "outputs": [
    {
     "data": {
      "text/plain": [
       "array([0, 1, 0, 1, 0, 1, 0, 1, 0, 1, 0, 1, 0, 1, 0, 1, 0, 1, 0, 1],\n",
       "      dtype=uint8)"
      ]
     },
     "execution_count": 17,
     "metadata": {},
     "output_type": "execute_result"
    }
   ],
   "source": [
    "full_words[:20]"
   ]
  },
  {
   "cell_type": "code",
   "execution_count": 20,
   "id": "82e5d0f3-ac4f-4892-87c8-a56d7012b689",
   "metadata": {},
   "outputs": [
    {
     "data": {
      "text/plain": [
       "863.236"
      ]
     },
     "execution_count": 20,
     "metadata": {},
     "output_type": "execute_result"
    }
   ],
   "source": [
    "len(full_words)/samp_freq_lfp #??? shouldn't be longer?"
   ]
  },
  {
   "cell_type": "markdown",
   "id": "e5fde257-8b8d-49dc-92c7-663fec61be7e",
   "metadata": {},
   "source": [
    "### CHANNEL_STATES\n",
    "+ the same as full_words (excpet instead -1 you have 0 in full_words)"
   ]
  },
  {
   "cell_type": "code",
   "execution_count": 26,
   "id": "26347cde-554b-4ffd-aa97-deeddca22971",
   "metadata": {},
   "outputs": [],
   "source": [
    "channel_states=np.load(\"channel_states.npy\")"
   ]
  },
  {
   "cell_type": "code",
   "execution_count": 27,
   "id": "275907a9-6c34-40b7-a318-316b3e2f812e",
   "metadata": {},
   "outputs": [
    {
     "data": {
      "text/plain": [
       "array([-1,  1, -1,  1, -1,  1, -1,  1, -1,  1, -1,  1, -1,  1, -1,  1, -1,\n",
       "        1, -1,  1], dtype=int16)"
      ]
     },
     "execution_count": 27,
     "metadata": {},
     "output_type": "execute_result"
    }
   ],
   "source": [
    "channel_states[:20]"
   ]
  },
  {
   "cell_type": "markdown",
   "id": "5c903d1f-86b2-4428-9c0a-6d3841b32f13",
   "metadata": {},
   "source": [
    "## TIMESTAMP_LFP (from continuous)"
   ]
  },
  {
   "cell_type": "code",
   "execution_count": 48,
   "id": "c944b367-2afe-4ed6-8718-dda374d30ab3",
   "metadata": {},
   "outputs": [],
   "source": [
    "lfp_tmp_folder=\"/media/data-116/Dax/1.Data/2021-05-25_12-32-00/Record Node 102/experiment1/recording1/continuous/Neuropix-PXI-100.1\""
   ]
  },
  {
   "cell_type": "code",
   "execution_count": 49,
   "id": "4980d7c9-9894-49f0-83b5-98221c6dac11",
   "metadata": {},
   "outputs": [],
   "source": [
    "os.chdir(lfp_tmp_folder)"
   ]
  },
  {
   "cell_type": "code",
   "execution_count": 50,
   "id": "06fc2f4c-24aa-46a9-8d5c-b0f6324fbc4e",
   "metadata": {},
   "outputs": [],
   "source": [
    "timestamps_lfp=np.load(\"timestamps.npy\")"
   ]
  },
  {
   "cell_type": "markdown",
   "id": "ee3ed97f-76ee-44e7-9f41-3f175fe07cb3",
   "metadata": {},
   "source": [
    "## Caculate videoframe timepoints"
   ]
  },
  {
   "cell_type": "code",
   "execution_count": 57,
   "id": "b6d9a752-6a33-4153-af80-a786637175cd",
   "metadata": {},
   "outputs": [],
   "source": [
    "timestamps_video_frames = timestamps_events[channel_states == 1] - timestamps_lfp[0] - 1"
   ]
  },
  {
   "cell_type": "code",
   "execution_count": null,
   "id": "616e1b00-f5b2-445a-beab-f4bc96023331",
   "metadata": {},
   "outputs": [],
   "source": []
  }
 ],
 "metadata": {
  "kernelspec": {
   "display_name": "vidpenv",
   "language": "python",
   "name": "vidpenv"
  },
  "language_info": {
   "codemirror_mode": {
    "name": "ipython",
    "version": 3
   },
   "file_extension": ".py",
   "mimetype": "text/x-python",
   "name": "python",
   "nbconvert_exporter": "python",
   "pygments_lexer": "ipython3",
   "version": "3.7.11"
  }
 },
 "nbformat": 4,
 "nbformat_minor": 5
}

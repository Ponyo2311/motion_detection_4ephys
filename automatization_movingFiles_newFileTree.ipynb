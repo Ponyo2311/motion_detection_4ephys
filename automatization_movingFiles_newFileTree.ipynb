{
 "cells": [
  {
   "cell_type": "markdown",
   "id": "0f5b262d-3a58-4847-b6d8-8388ef5a3a6e",
   "metadata": {},
   "source": [
    "Notes:\n",
    "- merging folders\n",
    "- pattern matching\n",
    "- running BASH commands\n",
    "\n",
    "re.search(r'(?s:.*)/(.*?).avi',nn).group(1)\n",
    "+ (?s:.*) == matching last occurence of a pattern\n",
    "+ (.*?) == matching in between patterns"
   ]
  },
  {
   "cell_type": "code",
   "execution_count": 16,
   "id": "2d4d5631-0c52-4519-a0c3-09cc327df823",
   "metadata": {},
   "outputs": [],
   "source": [
    "import os\n",
    "import re\n",
    "import subprocess #for bash"
   ]
  },
  {
   "cell_type": "markdown",
   "id": "aead493f-387f-4c38-908b-1efc79e0a15a",
   "metadata": {},
   "source": [
    "## Select folders to copy"
   ]
  },
  {
   "cell_type": "code",
   "execution_count": 1,
   "id": "afee1f69-4a9f-44a3-ad41-3110397653d4",
   "metadata": {},
   "outputs": [],
   "source": [
    "path2disk=\"/media/domi/OPTO6/\""
   ]
  },
  {
   "cell_type": "code",
   "execution_count": 4,
   "id": "13b7e436-0db7-499d-9e8a-a0a69396bf81",
   "metadata": {},
   "outputs": [
    {
     "data": {
      "text/plain": [
       "['._.Trashes',\n",
       " '20210802',\n",
       " '.Trashes',\n",
       " '.Spotlight-V100',\n",
       " '20210910',\n",
       " '20210903',\n",
       " '20210803',\n",
       " '20210804',\n",
       " '20210804b',\n",
       " '20210805',\n",
       " '20210806',\n",
       " '.com.apple.timemachine.donotpresent',\n",
       " '._.com.apple.timemachine.donotpresent',\n",
       " '20210709',\n",
       " '20210809',\n",
       " '20210810',\n",
       " '20210811',\n",
       " '20210812',\n",
       " '20210812b',\n",
       " '20210813',\n",
       " '20210813b',\n",
       " '20210816',\n",
       " '1. Analyses enregistrements opto',\n",
       " '20210902',\n",
       " '20210901',\n",
       " '20210831',\n",
       " '20210822',\n",
       " '20210816b',\n",
       " '20210915',\n",
       " '20210917',\n",
       " '20210916',\n",
       " '20210920',\n",
       " '20210921',\n",
       " '20210922',\n",
       " '20210923',\n",
       " '20210927',\n",
       " '20210924',\n",
       " '20210928',\n",
       " '20210929',\n",
       " '20210930',\n",
       " '20211001',\n",
       " '20211004',\n",
       " '20211005',\n",
       " '20211006',\n",
       " '20211007',\n",
       " '20211008',\n",
       " '20211011',\n",
       " '20211012',\n",
       " '20211013b',\n",
       " '20210712',\n",
       " '20211013',\n",
       " '20211015',\n",
       " '20211018',\n",
       " '20211019',\n",
       " '20211021',\n",
       " 'System Volume Information',\n",
       " '20210713',\n",
       " '20210715',\n",
       " '$RECYCLE.BIN',\n",
       " '20210718',\n",
       " '20210721',\n",
       " '20210723',\n",
       " '20210726',\n",
       " '20210728',\n",
       " '20210729',\n",
       " '20210730',\n",
       " '20210731']"
      ]
     },
     "execution_count": 4,
     "metadata": {},
     "output_type": "execute_result"
    }
   ],
   "source": [
    "os.listdir(path2disk)"
   ]
  },
  {
   "cell_type": "code",
   "execution_count": 13,
   "id": "797d0e82-0d96-4319-b876-788ba0b10c08",
   "metadata": {},
   "outputs": [],
   "source": [
    "#match files with names that start with 3 digits\n",
    "datematches=[os.listdir(path2disk)[i] for i in range(len(os.listdir(path2disk))) \n",
    "             if re.match(\"\\d{3}\",os.listdir(path2disk)[i])]"
   ]
  },
  {
   "cell_type": "code",
   "execution_count": 15,
   "id": "2422e5ac-dc3a-4b9e-8e8d-f4bf5c4dac58",
   "metadata": {},
   "outputs": [
    {
     "data": {
      "text/plain": [
       "59"
      ]
     },
     "execution_count": 15,
     "metadata": {},
     "output_type": "execute_result"
    }
   ],
   "source": [
    "len(datematches)"
   ]
  },
  {
   "cell_type": "code",
   "execution_count": 30,
   "id": "4408ec1c-8c81-4890-adc2-306671fb6c64",
   "metadata": {},
   "outputs": [],
   "source": [
    "paths2_v2_files=glob.glob(path2disk+'/**/*v2*')"
   ]
  },
  {
   "cell_type": "markdown",
   "id": "89827b83-4c4f-4e8a-81e9-d30605b3a446",
   "metadata": {},
   "source": [
    "## Bash command to copy"
   ]
  },
  {
   "cell_type": "code",
   "execution_count": 62,
   "id": "03d27790-a1be-4718-97ba-64ed27849717",
   "metadata": {},
   "outputs": [],
   "source": [
    "#import subprocess\n",
    "bashCommand = \"scp -r {} domi@139.124.148.5:/media/data-108/iea-mice/videos_8181/{}\" #format(path2disk, datematches[i])"
   ]
  },
  {
   "cell_type": "code",
   "execution_count": null,
   "id": "5ea944df-631f-4548-aab1-c8a5321504d6",
   "metadata": {},
   "outputs": [],
   "source": [
    "for file in paths2_v2_files:\n",
    "    fstr=re.search(r'(?s:.*)/(.*?).avi',file).group(1)\n",
    "    subprocess.run(bashCommand.format(file,fstr+\".avi\").split(), capture_output=True)"
   ]
  },
  {
   "cell_type": "code",
   "execution_count": null,
   "id": "2f4bc262-d7a4-42e7-be33-fef8646f43e4",
   "metadata": {},
   "outputs": [],
   "source": []
  }
 ],
 "metadata": {
  "kernelspec": {
   "display_name": "vidpenv",
   "language": "python",
   "name": "vidpenv"
  },
  "language_info": {
   "codemirror_mode": {
    "name": "ipython",
    "version": 3
   },
   "file_extension": ".py",
   "mimetype": "text/x-python",
   "name": "python",
   "nbconvert_exporter": "python",
   "pygments_lexer": "ipython3",
   "version": "3.7.11"
  }
 },
 "nbformat": 4,
 "nbformat_minor": 5
}

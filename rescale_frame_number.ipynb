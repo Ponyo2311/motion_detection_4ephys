{
 "cells": [
  {
   "cell_type": "markdown",
   "id": "50fade24-b314-4af6-8854-5c17936e39af",
   "metadata": {},
   "source": [
    "# **Rescale number of frames** -> skip evenly distributed number of frames"
   ]
  },
  {
   "cell_type": "code",
   "execution_count": 4,
   "id": "22101508-5956-4ea0-8a14-41a23cf59bd0",
   "metadata": {},
   "outputs": [],
   "source": [
    "import os \n",
    "import pandas as pd\n",
    "import numpy as np\n",
    "import re"
   ]
  },
  {
   "cell_type": "code",
   "execution_count": 2,
   "id": "8cad2dd8-09cd-4048-9af7-f3d32d23931a",
   "metadata": {},
   "outputs": [],
   "source": [
    "os.chdir(\"/media/data-119\")"
   ]
  },
  {
   "cell_type": "code",
   "execution_count": 3,
   "id": "8dcabf98-6da4-4444-a72f-528bd8ed4777",
   "metadata": {},
   "outputs": [
    {
     "data": {
      "text/plain": [
       "['Rat674-20211214_2',\n",
       " 'rat596_20210705_183011',\n",
       " 'rat596_20210704_193426',\n",
       " 'rat596_20210702_175129',\n",
       " 'nextcloud',\n",
       " 'rat596_20210703_192113',\n",
       " 'rat596_20210701_184333',\n",
       " 'lost+found']"
      ]
     },
     "execution_count": 3,
     "metadata": {},
     "output_type": "execute_result"
    }
   ],
   "source": [
    "os.listdir()"
   ]
  },
  {
   "cell_type": "markdown",
   "id": "a46447a0-5b7c-41d7-ac5d-f593f2cd3ded",
   "metadata": {},
   "source": [
    "## **July 01**\n",
    "\n",
    "+ notes: NORMALIZE MVM!!!!!!!!!!!!"
   ]
  },
  {
   "cell_type": "markdown",
   "id": "357cbbfe-69fc-4561-bb60-730e471fa112",
   "metadata": {},
   "source": [
    "### Read ephys timestamp and mvm data, convert ephys to seonds, normalize mvm"
   ]
  },
  {
   "cell_type": "code",
   "execution_count": 10,
   "id": "3912f32f-a067-4bf7-9b1d-946efe702f57",
   "metadata": {},
   "outputs": [],
   "source": [
    "#path to SYNC_file & mvm file\n",
    "ephys_time_path=\"/media/data-119/rat596_20210701_184333/rat596_20210701_184333tmstp.txt\"\n",
    "mvm_path=\"/media/data-119/rat596_20210701_184333/rat596_20210701_184333mvm.txt\"\n",
    "\n",
    "\n",
    "#read SYNC_file\n",
    "e_test = open(ephys_time_path,\"r\")\n",
    "ephys_time_test = [[float(x) for x in line.split()] for line in e_test]\n",
    "e_test.close()\n",
    "\n",
    "#read mvm_file\n",
    "m_test = open(mvm_path,\"r\")\n",
    "mvm_test = [[float(x) for x in line.split()] for line in m_test]\n",
    "m_test.close()\n",
    "\n",
    "#concatenate the list of lists into one list (array)\n",
    "ephys_time_test = np.concatenate(ephys_time_test)\n",
    "mvm_test = np.concatenate(mvm_test)\n",
    "\n",
    "#convert ephys to seconds \n",
    "ephys_time_test_sec = [i/2500 for i in ephys_time_test]"
   ]
  },
  {
   "cell_type": "code",
   "execution_count": 9,
   "id": "f37e401d-fe82-4647-9a60-dbc7d92f1133",
   "metadata": {},
   "outputs": [
    {
     "data": {
      "text/plain": [
       "1.0011209813716409"
      ]
     },
     "execution_count": 9,
     "metadata": {},
     "output_type": "execute_result"
    }
   ],
   "source": [
    "len(mvm_test)/len(ephys_time_test_sec)"
   ]
  },
  {
   "cell_type": "markdown",
   "id": "71a6184a-2353-4530-acee-837644c4dbb0",
   "metadata": {},
   "source": [
    "### Calculate index of lags, number of points between lags\n",
    "\n",
    "+ it's every 38.5th frame\n",
    "+ always ~ 0.4 ms = 0.0004 s\n",
    "\n",
    "+ remove one frame when the lags add up to 40 ms = 0.04 s\n",
    "\n",
    "-> multiply by factor 100 => 3850"
   ]
  },
  {
   "cell_type": "code",
   "execution_count": 12,
   "id": "a782312f-2985-40a5-ac8f-537d047056ba",
   "metadata": {},
   "outputs": [],
   "source": [
    "#get the difference between frame in milliseconds\n",
    "ephys_time_test_sec_diff=np.diff(ephys_time_test_sec)\n",
    "\n",
    "#get index lags.. time tn-t0\n",
    "differences_sec=[]\n",
    "for i in range(len(ephys_time_test_sec_diff)):\n",
    "    \n",
    "    #if the diffed time is not exactly 40 ms\n",
    "    if ephys_time_test_sec_diff[i]-0.04 != 0:\n",
    "        #can be negative or positive difference\n",
    "        differences_sec.append((i,ephys_time_test_sec_diff[i]-0.04))\n",
    "        \n",
    "#big differences -> from differences select diff of absolute value bigger than 0.0001ms\n",
    "big_differences_sec=[]\n",
    "for i in range(len(differences_sec)):\n",
    "    \n",
    "    #append tuple if np.abs(difference) > 0.0001\n",
    "    if np.abs(differences_sec[i][1]) > 0.0001:\n",
    "        big_differences_sec.append(differences_sec[i])\n",
    "        \n",
    "#get the indexes only of big diffs\n",
    "big_differences_sec_indexes=[big_differences_sec[i][0] for i in range(len(big_differences_sec))]\n",
    "\n",
    "#np diff of indexes -> after how many frames the difference occur\n",
    "big_differences_sec_indexes_DIFFS=np.diff(big_differences_sec_indexes)"
   ]
  },
  {
   "cell_type": "markdown",
   "id": "f11cc4b3-4ef6-4be8-a107-576c61895abb",
   "metadata": {},
   "source": [
    "### How mnay frames are to be deleted?"
   ]
  },
  {
   "cell_type": "code",
   "execution_count": 16,
   "id": "08f55647-c060-4fb1-bd9c-0811d94f7849",
   "metadata": {},
   "outputs": [
    {
     "data": {
      "text/plain": [
       "347.2555844155844"
      ]
     },
     "execution_count": 16,
     "metadata": {},
     "output_type": "execute_result"
    }
   ],
   "source": [
    "len(mvm_test)/3850"
   ]
  },
  {
   "cell_type": "code",
   "execution_count": 17,
   "id": "9dc53c4f-0bb5-4498-950a-2d06b9e21ad2",
   "metadata": {},
   "outputs": [
    {
     "data": {
      "text/plain": [
       "1497"
      ]
     },
     "execution_count": 17,
     "metadata": {},
     "output_type": "execute_result"
    }
   ],
   "source": [
    "len(mvm_test)-len(ephys_time_test_sec)"
   ]
  },
  {
   "cell_type": "markdown",
   "id": "e62f5443-b227-49d2-8907-c9184ce6a533",
   "metadata": {},
   "source": [
    "## **July 02**\n",
    "\n",
    "+ notes: NORMALIZE MVM!!!!!!!!!!!!\n",
    "\n",
    "### Read ephys timestamp and mvm data, convert ephys to seonds, normalize mvm"
   ]
  },
  {
   "cell_type": "code",
   "execution_count": 18,
   "id": "f7ca0c24-c137-43e7-8bbb-f442b1bb2d82",
   "metadata": {},
   "outputs": [],
   "source": [
    "#path to SYNC_file & mvm file\n",
    "ephys_time_path=\"/media/data-119/rat596_20210702_175129/rat596_20210702_175129tmstp.txt\"\n",
    "mvm_path=\"/media/data-119/rat596_20210702_175129/rat596_20210702_175129mvm.txt\"\n",
    "\n",
    "#read SYNC_file\n",
    "e_test = open(ephys_time_path,\"r\")\n",
    "ephys_time_test = [[float(x) for x in line.split()] for line in e_test]\n",
    "e_test.close()\n",
    "\n",
    "#read mvm_file\n",
    "m_test = open(mvm_path,\"r\")\n",
    "mvm_test = [[float(x) for x in line.split()] for line in m_test]\n",
    "m_test.close()\n",
    "\n",
    "#concatenate the list of lists into one list (array)\n",
    "ephys_time_test = np.concatenate(ephys_time_test)\n",
    "mvm_test = np.concatenate(mvm_test)\n",
    "\n",
    "#convert ephys to seconds \n",
    "ephys_time_test_sec = [i/2500 for i in ephys_time_test]"
   ]
  },
  {
   "cell_type": "code",
   "execution_count": 20,
   "id": "e891e77a-ee86-4148-9085-512a08211027",
   "metadata": {},
   "outputs": [
    {
     "data": {
      "text/plain": [
       "1.0002779308225282"
      ]
     },
     "execution_count": 20,
     "metadata": {},
     "output_type": "execute_result"
    }
   ],
   "source": [
    "len(mvm_test)/len(ephys_time_test_sec)"
   ]
  },
  {
   "cell_type": "markdown",
   "id": "67c33ebe-5ff1-4dea-a3c6-8f29c7e75bcb",
   "metadata": {},
   "source": [
    "### Calculate index of lags, number of points between lags\n",
    "\n",
    "+ it's every 38.5th frame\n",
    "+ always ~ 0.4 ms = 0.0004 s\n",
    "\n",
    "+ remove one frame when the lags add up to 40 ms = 0.04 s\n",
    "\n",
    "-> multiply by factor 100 => 3850"
   ]
  },
  {
   "cell_type": "code",
   "execution_count": 21,
   "id": "16996cc6-e2a0-4b4c-8b98-265411a2b3a0",
   "metadata": {},
   "outputs": [],
   "source": [
    "#get the difference between frame in milliseconds\n",
    "ephys_time_test_sec_diff=np.diff(ephys_time_test_sec)\n",
    "\n",
    "#get index lags.. time tn-t0\n",
    "differences_sec=[]\n",
    "for i in range(len(ephys_time_test_sec_diff)):\n",
    "    \n",
    "    #if the diffed time is not exactly 40 ms\n",
    "    if ephys_time_test_sec_diff[i]-0.04 != 0:\n",
    "        #can be negative or positive difference\n",
    "        differences_sec.append((i,ephys_time_test_sec_diff[i]-0.04))\n",
    "        \n",
    "#big differences -> from differences select diff of absolute value bigger than 0.0001ms\n",
    "big_differences_sec=[]\n",
    "for i in range(len(differences_sec)):\n",
    "    \n",
    "    #append tuple if np.abs(difference) > 0.0001\n",
    "    if np.abs(differences_sec[i][1]) > 0.0001:\n",
    "        big_differences_sec.append(differences_sec[i])\n",
    "        \n",
    "#get the indexes only of big diffs\n",
    "big_differences_sec_indexes=[big_differences_sec[i][0] for i in range(len(big_differences_sec))]\n",
    "\n",
    "#np diff of indexes -> after how many frames the difference occur\n",
    "big_differences_sec_indexes_DIFFS=np.diff(big_differences_sec_indexes)"
   ]
  },
  {
   "cell_type": "markdown",
   "id": "2968b193-64eb-48c2-a726-b4afdc443d3d",
   "metadata": {},
   "source": [
    "### How mnay frames are to be deleted?"
   ]
  },
  {
   "cell_type": "code",
   "execution_count": 22,
   "id": "bb432096-59ee-4f80-9663-82de79318b5e",
   "metadata": {},
   "outputs": [
    {
     "data": {
      "text/plain": [
       "371.11948051948053"
      ]
     },
     "execution_count": 22,
     "metadata": {},
     "output_type": "execute_result"
    }
   ],
   "source": [
    "len(mvm_test)/3850"
   ]
  },
  {
   "cell_type": "code",
   "execution_count": 23,
   "id": "bf517ac2-b7af-4695-8049-f676d4fb415f",
   "metadata": {},
   "outputs": [
    {
     "data": {
      "text/plain": [
       "397"
      ]
     },
     "execution_count": 23,
     "metadata": {},
     "output_type": "execute_result"
    }
   ],
   "source": [
    "len(mvm_test)-len(ephys_time_test_sec)"
   ]
  },
  {
   "cell_type": "markdown",
   "id": "79854b54-56ea-47cc-8144-5562e4739d54",
   "metadata": {},
   "source": [
    "### it doesn't come ONLY  from the big differences.. let's just delete exact num of frames here... spaced evenly"
   ]
  },
  {
   "cell_type": "code",
   "execution_count": 25,
   "id": "2a701ffb-3288-4e32-9ca3-29ca1155cc5b",
   "metadata": {},
   "outputs": [
    {
     "name": "stdout",
     "output_type": "stream",
     "text": [
      "3599\n"
     ]
    }
   ],
   "source": [
    "#number of frames in mvm divided by the difference\n",
    "skip_rate = int(len(mvm_test)/(len(mvm_test)-len(ephys_time_test_sec)))\n",
    "print(skip_rate)"
   ]
  },
  {
   "cell_type": "code",
   "execution_count": 42,
   "id": "8ba1e1f0-ac18-456c-88e3-c7d48ed9824c",
   "metadata": {},
   "outputs": [],
   "source": [
    "#create copy from which we delete items\n",
    "import copy\n",
    "mvm_test_copy=copy.deepcopy(mvm_test)"
   ]
  },
  {
   "cell_type": "code",
   "execution_count": 56,
   "id": "b28236a9-ea0d-4298-bc5a-076748f7a846",
   "metadata": {},
   "outputs": [],
   "source": [
    "mvm_test_copy=[mvm_test[i] for i in range(len(mvm_test)) if (i==0) | (i%skip_rate != 0)]"
   ]
  },
  {
   "cell_type": "markdown",
   "id": "ef7555c0-1fb3-4fbf-9a38-5eab587c2697",
   "metadata": {},
   "source": [
    "indexes2delete=[]\n",
    "for i in range(len(mvm_test)):\n",
    "    if i == 0:\n",
    "        continue\n",
    "    if i%skip_rate == 0:\n",
    "        del mvm_test_copy[i]"
   ]
  },
  {
   "cell_type": "code",
   "execution_count": 37,
   "id": "17408b4f-607b-4728-bb6f-40818e3c5e37",
   "metadata": {},
   "outputs": [
    {
     "data": {
      "text/plain": [
       "397"
      ]
     },
     "execution_count": 37,
     "metadata": {},
     "output_type": "execute_result"
    }
   ],
   "source": [
    "len(indexes2delete) #good number\n"
   ]
  },
  {
   "cell_type": "code",
   "execution_count": 40,
   "id": "094e39e3-0936-4baa-878d-15eb2c393d6a",
   "metadata": {},
   "outputs": [
    {
     "ename": "TypeError",
     "evalue": "list indices must be integers or slices, not list",
     "output_type": "error",
     "traceback": [
      "\u001b[0;31m---------------------------------------------------------------------------\u001b[0m",
      "\u001b[0;31mTypeError\u001b[0m                                 Traceback (most recent call last)",
      "\u001b[0;32m/tmp/ipykernel_4145063/788347882.py\u001b[0m in \u001b[0;36m<module>\u001b[0;34m\u001b[0m\n\u001b[1;32m      1\u001b[0m \u001b[0mmvm_test_copy\u001b[0m \u001b[0;34m=\u001b[0m \u001b[0mlist\u001b[0m\u001b[0;34m(\u001b[0m\u001b[0mmvm_test_copy\u001b[0m\u001b[0;34m)\u001b[0m\u001b[0;34m\u001b[0m\u001b[0;34m\u001b[0m\u001b[0m\n\u001b[0;32m----> 2\u001b[0;31m \u001b[0;32mdel\u001b[0m \u001b[0mmvm_test_copy\u001b[0m\u001b[0;34m[\u001b[0m\u001b[0mindexes2delete\u001b[0m\u001b[0;34m]\u001b[0m\u001b[0;34m\u001b[0m\u001b[0;34m\u001b[0m\u001b[0m\n\u001b[0m",
      "\u001b[0;31mTypeError\u001b[0m: list indices must be integers or slices, not list"
     ]
    }
   ],
   "source": [
    "mvm_test_copy = list(mvm_test_copy)\n",
    "del mvm_test_copy[indexes2delete]"
   ]
  },
  {
   "cell_type": "code",
   "execution_count": 58,
   "id": "ec846830-7cd3-41e1-b2a5-242743219826",
   "metadata": {},
   "outputs": [
    {
     "data": {
      "text/plain": [
       "0"
      ]
     },
     "execution_count": 58,
     "metadata": {},
     "output_type": "execute_result"
    }
   ],
   "source": [
    "len(mvm_test_copy)-len(ephys_time_test_sec)"
   ]
  },
  {
   "cell_type": "code",
   "execution_count": 60,
   "id": "319c3e02-c008-4e36-aadf-3ce52c8405a7",
   "metadata": {},
   "outputs": [],
   "source": [
    "np.savetxt(\"/media/data-119/rat596_20210702_175129/rat596_20210702_175129mvmCOPY.txt\",\n",
    "              mvm_test_copy)"
   ]
  },
  {
   "cell_type": "code",
   "execution_count": null,
   "id": "b1087ed9-dbb3-4e35-97d1-733187a5792d",
   "metadata": {},
   "outputs": [],
   "source": []
  }
 ],
 "metadata": {
  "kernelspec": {
   "display_name": "vidpenv",
   "language": "python",
   "name": "vidpenv"
  },
  "language_info": {
   "codemirror_mode": {
    "name": "ipython",
    "version": 3
   },
   "file_extension": ".py",
   "mimetype": "text/x-python",
   "name": "python",
   "nbconvert_exporter": "python",
   "pygments_lexer": "ipython3",
   "version": "3.7.11"
  }
 },
 "nbformat": 4,
 "nbformat_minor": 5
}

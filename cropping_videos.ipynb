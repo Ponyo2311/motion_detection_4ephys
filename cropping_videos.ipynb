{
 "cells": [
  {
   "cell_type": "markdown",
   "id": "978f8a1d-f091-44f2-82fc-9e4711659f3a",
   "metadata": {},
   "source": [
    "# **Cropping video USING FFMPEG**\n",
    "\n",
    "need to install ffmeg on your system first"
   ]
  },
  {
   "cell_type": "code",
   "execution_count": 1,
   "id": "2a8ddfa4-5df3-49a0-bc6f-7ce692e94543",
   "metadata": {},
   "outputs": [],
   "source": [
    "import os "
   ]
  },
  {
   "cell_type": "code",
   "execution_count": 2,
   "id": "ede4a106-3b45-4db6-ba74-98b7a98db2e0",
   "metadata": {},
   "outputs": [],
   "source": [
    "os.chdir(\"C:/Users/domin/Documents/SCHOOL/STAGE2/motion_detection_4ephys/data/\")"
   ]
  },
  {
   "cell_type": "code",
   "execution_count": 8,
   "id": "411604f2-774f-4bbb-860e-2337674d447c",
   "metadata": {},
   "outputs": [
    {
     "name": "stderr",
     "output_type": "stream",
     "text": [
      "ffmpeg version 2022-03-28-git-5ee198f9aa-essentials_build-www.gyan.dev Copyright (c) 2000-2022 the FFmpeg developers\n",
      "  built with gcc 11.2.0 (Rev7, Built by MSYS2 project)\n",
      "  configuration: --enable-gpl --enable-version3 --enable-static --disable-w32threads --disable-autodetect --enable-fontconfig --enable-iconv --enable-gnutls --enable-libxml2 --enable-gmp --enable-bzlib --enable-lzma --enable-zlib --enable-libsrt --enable-libssh --enable-libzmq --enable-avisynth --enable-sdl2 --enable-libwebp --enable-libx264 --enable-libx265 --enable-libxvid --enable-libaom --enable-libopenjpeg --enable-libvpx --enable-mediafoundation --enable-libass --enable-libfreetype --enable-libfribidi --enable-libvidstab --enable-libvmaf --enable-libzimg --enable-amf --enable-cuda-llvm --enable-cuvid --enable-ffnvcodec --enable-nvdec --enable-nvenc --enable-d3d11va --enable-dxva2 --enable-libmfx --enable-libgme --enable-libopenmpt --enable-libopencore-amrwb --enable-libmp3lame --enable-libtheora --enable-libvo-amrwbenc --enable-libgsm --enable-libopencore-amrnb --enable-libopus --enable-libspeex --enable-libvorbis --enable-librubberband\n",
      "  libavutil      57. 24.101 / 57. 24.101\n",
      "  libavcodec     59. 25.100 / 59. 25.100\n",
      "  libavformat    59. 20.101 / 59. 20.101\n",
      "  libavdevice    59.  6.100 / 59.  6.100\n",
      "  libavfilter     8. 29.100 /  8. 29.100\n",
      "  libswscale      6.  6.100 /  6.  6.100\n",
      "  libswresample   4.  6.100 /  4.  6.100\n",
      "  libpostproc    56.  5.100 / 56.  5.100\n",
      "Input #0, mov,mp4,m4a,3gp,3g2,mj2, from 'Basler_acA1300-60gmNIR__21471690__20211207_113623925_SHORT.mp4':\n",
      "  Metadata:\n",
      "    major_brand     : isom\n",
      "    minor_version   : 512\n",
      "    compatible_brands: isomiso2mp41\n",
      "    encoder         : Lavf58.12.100\n",
      "  Duration: 00:03:00.00, start: 0.000000, bitrate: 7053 kb/s\n",
      "  Stream #0:0[0x1](und): Video: mpeg4 (Simple Profile) (mp4v / 0x7634706D), yuv420p, 1280x1024 [SAR 1:1 DAR 5:4], 7052 kb/s, 25 fps, 25 tbr, 12800 tbn (default)\n",
      "    Metadata:\n",
      "      handler_name    : VideoHandler\n",
      "      vendor_id       : [0][0][0][0]\n",
      "Output #0, mp4, to 'Basler_acA1300-60gmNIR__21471690__20211207_113623925_SHORT_10sec.mp4':\n",
      "  Metadata:\n",
      "    major_brand     : isom\n",
      "    minor_version   : 512\n",
      "    compatible_brands: isomiso2mp41\n",
      "    encoder         : Lavf59.20.101\n",
      "  Stream #0:0(und): Video: mpeg4 (Simple Profile) (mp4v / 0x7634706D), yuv420p, 1280x1024 [SAR 1:1 DAR 5:4], q=2-31, 7052 kb/s, 25 fps, 25 tbr, 12800 tbn (default)\n",
      "    Metadata:\n",
      "      handler_name    : VideoHandler\n",
      "      vendor_id       : [0][0][0][0]\n",
      "Stream mapping:\n",
      "  Stream #0:0 -> #0:0 (copy)\n",
      "Press [q] to stop, [?] for help\n",
      "frame=    1 fps=0.0 q=-1.0 size=       0kB time=00:00:00.00 bitrate=4512.8kbits/s speed=  39x    \n",
      "frame= 1500 fps=0.0 q=-1.0 Lsize=   51614kB time=00:00:59.96 bitrate=7051.7kbits/s speed= 577x    \n",
      "video:51606kB audio:0kB subtitle:0kB other streams:0kB global headers:0kB muxing overhead: 0.015491%\n"
     ]
    }
   ],
   "source": [
    "# -ss : start\n",
    "# -i : input\n",
    "# -t : end\n",
    "\n",
    "#This is the third minute of the original recording (from 00:02:00 to 00:03:00). The rat1 starts to move somewhere in the middle\n",
    "!ffmpeg -ss 00:02:00.0 -i Basler_acA1300-60gmNIR__21471690__20211207_113623925_SHORT.mp4 -c copy -t 00:02:10.0 Basler_acA1300-60gmNIR__21471690__20211207_113623925_SHORT_10sec.mp4"
   ]
  }
 ],
 "metadata": {
  "kernelspec": {
   "display_name": "vidpenv",
   "language": "python",
   "name": "vidpenv"
  },
  "language_info": {
   "codemirror_mode": {
    "name": "ipython",
    "version": 3
   },
   "file_extension": ".py",
   "mimetype": "text/x-python",
   "name": "python",
   "nbconvert_exporter": "python",
   "pygments_lexer": "ipython3",
   "version": "3.7.11"
  }
 },
 "nbformat": 4,
 "nbformat_minor": 5
}

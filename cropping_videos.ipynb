{
 "cells": [
  {
   "cell_type": "markdown",
   "id": "978f8a1d-f091-44f2-82fc-9e4711659f3a",
   "metadata": {},
   "source": [
    "# **Cropping video USING FFMPEG**\n",
    "\n",
    "need to install ffmeg on your system first"
   ]
  },
  {
   "cell_type": "code",
   "execution_count": 1,
   "id": "2a8ddfa4-5df3-49a0-bc6f-7ce692e94543",
   "metadata": {},
   "outputs": [],
   "source": [
    "import os "
   ]
  },
  {
   "cell_type": "code",
   "execution_count": 2,
   "id": "ede4a106-3b45-4db6-ba74-98b7a98db2e0",
   "metadata": {},
   "outputs": [],
   "source": [
    "os.chdir(\"/media/data-108/Videos/video_W596_W597_W602/\")"
   ]
  },
  {
   "cell_type": "code",
   "execution_count": 4,
   "id": "411604f2-774f-4bbb-860e-2337674d447c",
   "metadata": {},
   "outputs": [
    {
     "name": "stdout",
     "output_type": "stream",
     "text": [
      "ffmpeg version 4.0 Copyright (c) 2000-2018 the FFmpeg developers\n",
      "  built with gcc 7.2.0 (crosstool-NG fa8859cb)\n",
      "  configuration: --prefix=/home/programs/python/anaconda3/envs/vidpenv --cc=/opt/conda/conda-bld/ffmpeg_1531088893642/_build_env/bin/x86_64-conda_cos6-linux-gnu-cc --disable-doc --enable-shared --enable-static --enable-zlib --enable-pic --enable-gpl --enable-version3 --disable-nonfree --enable-hardcoded-tables --enable-avresample --enable-libfreetype --disable-openssl --disable-gnutls --enable-libvpx --enable-pthreads --enable-libopus --enable-postproc --disable-libx264\n",
      "  libavutil      56. 14.100 / 56. 14.100\n",
      "  libavcodec     58. 18.100 / 58. 18.100\n",
      "  libavformat    58. 12.100 / 58. 12.100\n",
      "  libavdevice    58.  3.100 / 58.  3.100\n",
      "  libavfilter     7. 16.100 /  7. 16.100\n",
      "  libavresample   4.  0.  0 /  4.  0.  0\n",
      "  libswscale      5.  1.100 /  5.  1.100\n",
      "  libswresample   3.  1.100 /  3.  1.100\n",
      "  libpostproc    55.  1.100 / 55.  1.100\n",
      "Input #0, mov,mp4,m4a,3gp,3g2,mj2, from 'Basler_acA1300-60gmNIR__21471690__20210701_184333372.mp4':\n",
      "  Metadata:\n",
      "    major_brand     : isom\n",
      "    minor_version   : 512\n",
      "    compatible_brands: isomiso2mp41\n",
      "    encoder         : Lavf56.1.0\n",
      "  Duration: 14:51:17.36, start: 0.000000, bitrate: 5510 kb/s\n",
      "    Stream #0:0(und): Video: mpeg4 (Simple Profile) (mp4v / 0x7634706D), yuv420p, 1280x1024 [SAR 1:1 DAR 5:4], 5508 kb/s, 25 fps, 25 tbr, 25 tbn, 25 tbc (default)\n",
      "    Metadata:\n",
      "      handler_name    : VideoHandler\n",
      "Output #0, mp4, to '/media/data-119/rat596_20210701_184333/rat596_20210701_184333short.mp4':\n",
      "  Metadata:\n",
      "    major_brand     : isom\n",
      "    minor_version   : 512\n",
      "    compatible_brands: isomiso2mp41\n",
      "    encoder         : Lavf58.12.100\n",
      "    Stream #0:0(und): Video: mpeg4 (Simple Profile) (mp4v / 0x7634706D), yuv420p, 1280x1024 [SAR 1:1 DAR 5:4], q=2-31, 5508 kb/s, 25 fps, 25 tbr, 12800 tbn, 25 tbc (default)\n",
      "    Metadata:\n",
      "      handler_name    : VideoHandler\n",
      "Stream mapping:\n",
      "  Stream #0:0 -> #0:0 (copy)\n",
      "Press [q] to stop, [?] for help\n",
      "frame=541510 fps=13468 q=-1.0 Lsize=10168161kB time=06:00:59.96 bitrate=3845.7kbits/s speed= 539x    \n",
      "video:10165680kB audio:0kB subtitle:0kB other streams:0kB global headers:0kB muxing overhead: 0.024400%\n"
     ]
    }
   ],
   "source": [
    "# -ss : start\n",
    "# -i : input\n",
    "# -t : end\n",
    "\n",
    "#This is the third minute of the original recording (from 00:02:00 to 00:03:00). The rat1 starts to move somewhere in the middle\n",
    "!ffmpeg -ss 06:00:00.0 -i Basler_acA1300-60gmNIR__21471690__20210701_184333372.mp4 -c copy -t 06:01:00.0 /media/data-119/rat596_20210701_184333/rat596_20210701_184333short.mp4"
   ]
  }
 ],
 "metadata": {
  "kernelspec": {
   "display_name": "vidpenv",
   "language": "python",
   "name": "vidpenv"
  },
  "language_info": {
   "codemirror_mode": {
    "name": "ipython",
    "version": 3
   },
   "file_extension": ".py",
   "mimetype": "text/x-python",
   "name": "python",
   "nbconvert_exporter": "python",
   "pygments_lexer": "ipython3",
   "version": "3.7.11"
  }
 },
 "nbformat": 4,
 "nbformat_minor": 5
}

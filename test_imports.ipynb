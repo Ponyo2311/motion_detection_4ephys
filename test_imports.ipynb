{
 "cells": [
  {
   "cell_type": "code",
   "execution_count": 19,
   "id": "0aa423c1-7fea-491c-9b7c-935e5f895442",
   "metadata": {},
   "outputs": [],
   "source": [
    "import os\n",
    "import sys"
   ]
  },
  {
   "cell_type": "code",
   "execution_count": 20,
   "id": "c1d07d56-230a-4816-bba0-c3433e821aa0",
   "metadata": {},
   "outputs": [
    {
     "name": "stdout",
     "output_type": "stream",
     "text": [
      "['/home/domi/video_proc/motion_detection_4ephys', '/home/programs/python/anaconda3/envs/vidpenv/lib/python37.zip', '/home/programs/python/anaconda3/envs/vidpenv/lib/python3.7', '/home/programs/python/anaconda3/envs/vidpenv/lib/python3.7/lib-dynload', '', '/home/programs/python/anaconda3/envs/vidpenv/lib/python3.7/site-packages', '/home/programs/python/anaconda3/envs/vidpenv/lib/python3.7/site-packages/locket-0.2.1-py3.7.egg', '/home/programs/python/anaconda3/envs/vidpenv/lib/python3.7/site-packages/IPython/extensions', '/home/domi/.ipython']\n"
     ]
    }
   ],
   "source": [
    "print(sys.path)"
   ]
  },
  {
   "cell_type": "code",
   "execution_count": 21,
   "id": "ebb2b27e-621b-4ff1-8148-c42bac0373ad",
   "metadata": {},
   "outputs": [
    {
     "ename": "NameError",
     "evalue": "name 'vpp' is not defined",
     "output_type": "error",
     "traceback": [
      "\u001b[0;31m---------------------------------------------------------------------------\u001b[0m",
      "\u001b[0;31mNameError\u001b[0m                                 Traceback (most recent call last)",
      "\u001b[0;32m/tmp/ipykernel_826941/3292618216.py\u001b[0m in \u001b[0;36m<module>\u001b[0;34m\u001b[0m\n\u001b[1;32m      1\u001b[0m PROJECT_ROOT = os.path.abspath(os.path.join(\n\u001b[0;32m----> 2\u001b[0;31m                   \u001b[0mos\u001b[0m\u001b[0;34m.\u001b[0m\u001b[0mpath\u001b[0m\u001b[0;34m.\u001b[0m\u001b[0mdirname\u001b[0m\u001b[0;34m(\u001b[0m\u001b[0mvpp\u001b[0m\u001b[0;34m)\u001b[0m\u001b[0;34m,\u001b[0m\u001b[0;34m\u001b[0m\u001b[0;34m\u001b[0m\u001b[0m\n\u001b[0m\u001b[1;32m      3\u001b[0m                   os.pardir)\n\u001b[1;32m      4\u001b[0m )\n\u001b[1;32m      5\u001b[0m \u001b[0msys\u001b[0m\u001b[0;34m.\u001b[0m\u001b[0mpath\u001b[0m\u001b[0;34m.\u001b[0m\u001b[0mappend\u001b[0m\u001b[0;34m(\u001b[0m\u001b[0mPROJECT_ROOT\u001b[0m\u001b[0;34m)\u001b[0m\u001b[0;34m\u001b[0m\u001b[0;34m\u001b[0m\u001b[0m\n",
      "\u001b[0;31mNameError\u001b[0m: name 'vpp' is not defined"
     ]
    }
   ],
   "source": [
    "PROJECT_ROOT = os.path.abspath(os.path.join(\n",
    "                  os.path.dirname(vpp), \n",
    "                  os.pardir)\n",
    ")\n",
    "sys.path.append(PROJECT_ROOT)"
   ]
  },
  {
   "cell_type": "code",
   "execution_count": 22,
   "id": "bcf7c543-d5d3-4411-a97a-9022ece1839f",
   "metadata": {},
   "outputs": [
    {
     "ename": "ModuleNotFoundError",
     "evalue": "No module named 'motion_detector'",
     "output_type": "error",
     "traceback": [
      "\u001b[0;31m---------------------------------------------------------------------------\u001b[0m",
      "\u001b[0;31mModuleNotFoundError\u001b[0m                       Traceback (most recent call last)",
      "\u001b[0;32m/tmp/ipykernel_826941/3009086886.py\u001b[0m in \u001b[0;36m<module>\u001b[0;34m\u001b[0m\n\u001b[0;32m----> 1\u001b[0;31m \u001b[0;32mfrom\u001b[0m \u001b[0mvpp_old\u001b[0m \u001b[0;32mimport\u001b[0m \u001b[0mplot_mvm\u001b[0m\u001b[0;34m\u001b[0m\u001b[0;34m\u001b[0m\u001b[0m\n\u001b[0m",
      "\u001b[0;32m~/video_proc/motion_detection_4ephys/vpp_old/__init__.py\u001b[0m in \u001b[0;36m<module>\u001b[0;34m\u001b[0m\n\u001b[1;32m      2\u001b[0m \u001b[0;31m#from .realTime_plotting_test2 import onclick_rat1, onclick_rat2, motion_detector_outputs, realTime_plotting\u001b[0m\u001b[0;34m\u001b[0m\u001b[0;34m\u001b[0m\u001b[0;34m\u001b[0m\u001b[0m\n\u001b[1;32m      3\u001b[0m \u001b[0;31m#from .getting_coordinates_manual import coord_extractor\u001b[0m\u001b[0;34m\u001b[0m\u001b[0;34m\u001b[0m\u001b[0;34m\u001b[0m\u001b[0m\n\u001b[0;32m----> 4\u001b[0;31m \u001b[0;32mfrom\u001b[0m \u001b[0mvpp_old\u001b[0m\u001b[0;34m.\u001b[0m\u001b[0mgetting_coordinates_manual_CLASS\u001b[0m \u001b[0;32mimport\u001b[0m \u001b[0mRat_coords\u001b[0m\u001b[0;34m\u001b[0m\u001b[0;34m\u001b[0m\u001b[0m\n\u001b[0m\u001b[1;32m      5\u001b[0m \u001b[0;32mfrom\u001b[0m \u001b[0mvpp_old\u001b[0m\u001b[0;34m.\u001b[0m\u001b[0mmotion_detector_MVMwriter\u001b[0m \u001b[0;32mimport\u001b[0m \u001b[0mmotion_detector_MVMwriter\u001b[0m\u001b[0;34m\u001b[0m\u001b[0;34m\u001b[0m\u001b[0m\n\u001b[1;32m      6\u001b[0m \u001b[0;32mfrom\u001b[0m \u001b[0mvpp_old\u001b[0m\u001b[0;34m.\u001b[0m\u001b[0mrealTime_plotting_CLASS\u001b[0m \u001b[0;32mimport\u001b[0m \u001b[0mRat_mvm\u001b[0m\u001b[0;34m\u001b[0m\u001b[0;34m\u001b[0m\u001b[0m\n",
      "\u001b[0;32m~/video_proc/motion_detection_4ephys/vpp_old/getting_coordinates_manual_CLASS.py\u001b[0m in \u001b[0;36m<module>\u001b[0;34m\u001b[0m\n\u001b[1;32m     11\u001b[0m \u001b[0;31m#were awake and active, awake and resting, or half-awake.\u001b[0m\u001b[0;34m\u001b[0m\u001b[0;34m\u001b[0m\u001b[0;34m\u001b[0m\u001b[0m\n\u001b[1;32m     12\u001b[0m \u001b[0;34m\u001b[0m\u001b[0m\n\u001b[0;32m---> 13\u001b[0;31m \u001b[0;32mfrom\u001b[0m \u001b[0mmotion_detector\u001b[0m \u001b[0;32mimport\u001b[0m \u001b[0mresizing\u001b[0m\u001b[0;34m\u001b[0m\u001b[0;34m\u001b[0m\u001b[0m\n\u001b[0m\u001b[1;32m     14\u001b[0m \u001b[0;31m#from getting_coordinates_manual_CLASS import Rat_coords\u001b[0m\u001b[0;34m\u001b[0m\u001b[0;34m\u001b[0m\u001b[0;34m\u001b[0m\u001b[0m\n\u001b[1;32m     15\u001b[0m \u001b[0;32mfrom\u001b[0m \u001b[0mmatplotlib\u001b[0m\u001b[0;34m.\u001b[0m\u001b[0manimation\u001b[0m \u001b[0;32mimport\u001b[0m \u001b[0mFuncAnimation\u001b[0m \u001b[0;31m#to use for afterplot\u001b[0m\u001b[0;34m\u001b[0m\u001b[0;34m\u001b[0m\u001b[0m\n",
      "\u001b[0;31mModuleNotFoundError\u001b[0m: No module named 'motion_detector'"
     ]
    }
   ],
   "source": [
    "from vpp_old import plot_mvm"
   ]
  },
  {
   "cell_type": "code",
   "execution_count": null,
   "id": "cd2b3daf-b1df-4f06-baeb-6ef145fd8250",
   "metadata": {},
   "outputs": [],
   "source": []
  }
 ],
 "metadata": {
  "kernelspec": {
   "display_name": "vidpenv",
   "language": "python",
   "name": "vidpenv"
  },
  "language_info": {
   "codemirror_mode": {
    "name": "ipython",
    "version": 3
   },
   "file_extension": ".py",
   "mimetype": "text/x-python",
   "name": "python",
   "nbconvert_exporter": "python",
   "pygments_lexer": "ipython3",
   "version": "3.7.11"
  }
 },
 "nbformat": 4,
 "nbformat_minor": 5
}

{
 "cells": [
  {
   "cell_type": "markdown",
   "id": "d06e66bd-e22d-4a7a-9c71-b2c7624e33d2",
   "metadata": {},
   "source": [
    "# CREATE RESTRUCTURED FOLDERS ON data-119 FOR MAEVA'S W628 & W627"
   ]
  },
  {
   "cell_type": "markdown",
   "id": "77ffcf51-55d0-48fa-be86-8ccccce2f24b",
   "metadata": {},
   "source": [
    "## Notes\n",
    "w628 -> Neuropix 0 & 1\n",
    "w627 -> Neuropix 2 & 3"
   ]
  },
  {
   "cell_type": "code",
   "execution_count": 1,
   "id": "076c5a0f-fe4e-4004-a243-5b06dad28b0e",
   "metadata": {},
   "outputs": [],
   "source": [
    "#IMPORTS\n",
    "import os\n",
    "import glob\n",
    "import re"
   ]
  },
  {
   "cell_type": "code",
   "execution_count": 2,
   "id": "5e30272a-fef8-42c6-b317-471e30bc9428",
   "metadata": {},
   "outputs": [],
   "source": [
    "path2files=\"/media/data-102/\"\n",
    "path2videos=\"/media/data-116/Neuropixels Info/Videos/W627-W628/\""
   ]
  },
  {
   "cell_type": "code",
   "execution_count": null,
   "id": "9c2bf761-93da-437e-abee-15dcef1700e7",
   "metadata": {},
   "outputs": [],
   "source": [
    "sessionsSYNC={}\n",
    "\n",
    "#for i in fileTree[\"data_number\"]:\n",
    "#    for j in fileTree[\"name\"]:------------------ use this: create keys - rats' names; then just match correspondant neuropix number \n",
    "ratsNames=[\"W628\",\"W627\"]\n",
    "\n",
    "path=path2files\n",
    "for file in os.listdir(path):\n",
    "    #MATCH DATE PATTERN of the session\n",
    "    match=re.search(\"2021-(\\d+)-(\\d+)_(\\d+)-(\\d+)-(\\d+)\", file)\n",
    "    matched_date=match.group()\n",
    "    \n",
    "    \n",
    "    sessionsSYNC[ratsNames[0]]={\"data_nb\":i,\n",
    "                         \"rat_name\":j,\n",
    "                         \"dates_recording\":os.listdir(glob.glob(path+\"/*Data/\")[0]),\n",
    "                         \"setting_xml\":glob.glob(path+'/*Data/**/settings.xml*', recursive=True),\n",
    "                         \"dates_video\":[f for f in glob.glob(path+\"/*Videos/**\", \n",
    "                                                 recursive=True) if os.path.isfile(f)],\n",
    "                            \"tmstp_ttl\":[f for f in glob.glob(path+\"/**/TTL_[2,4]/timestamp*\", \n",
    "                                                 recursive=True) if os.path.isfile(f)],\n",
    "                            # \"tmstp_ttl_4\":[f for f in glob.glob(path+\"/**/TTL_4/timestamp*\", \n",
    "                            #                     recursive=True) if os.path.isfile(f)],\n",
    "                            \"channelStates_ttl\":[f for f in glob.glob(path+\"/**/TTL_[2,4]/channel_state*\", \n",
    "                                                 recursive=True) if os.path.isfile(f)],\n",
    "                             #\"channelStates_ttl_4\":[f for f in glob.glob(path+\"/**/TTL_4/channel_state*\", \n",
    "                             #                    recursive=True) if os.path.isfile(f)],\n",
    "                            \"tmstp_lfp\":[f for f in glob.glob(path+\"/**/continuous/Neuropix-PXI-100.[1,3]/timestamp*\", # (\\d+)(?!.*\\d)\n",
    "                                                 recursive=True) if os.path.isfile(f)]}\n",
    "    sessionsSYNC[ratsNames[1]]={\"data_nb\":i,\n",
    "                         \"rat_name\":j,\n",
    "                         \"dates_recording\":os.listdir(glob.glob(path+\"/*Data/\")[0]),\n",
    "                         \"setting_xml\":glob.glob(path+'/*Data/**/settings.xml*', recursive=True),\n",
    "                         \"dates_video\":[f for f in glob.glob(path+\"/*Videos/**\", \n",
    "                                                 recursive=True) if os.path.isfile(f)],\n",
    "                            \"tmstp_ttl\":[f for f in glob.glob(path+\"/**/TTL_[2,4]/timestamp*\", \n",
    "                                                 recursive=True) if os.path.isfile(f)],\n",
    "                            # \"tmstp_ttl_4\":[f for f in glob.glob(path+\"/**/TTL_4/timestamp*\", \n",
    "                            #                     recursive=True) if os.path.isfile(f)],\n",
    "                            \"channelStates_ttl\":[f for f in glob.glob(path+\"/**/TTL_[2,4]/channel_state*\", \n",
    "                                                 recursive=True) if os.path.isfile(f)],\n",
    "                             #\"channelStates_ttl_4\":[f for f in glob.glob(path+\"/**/TTL_4/channel_state*\", \n",
    "                             #                    recursive=True) if os.path.isfile(f)],\n",
    "                            \"tmstp_lfp\":[f for f in glob.glob(path+\"/**/continuous/Neuropix-PXI-100.[1,3]/timestamp*\", # (\\d+)(?!.*\\d)\n",
    "                                                 recursive=True) if os.path.isfile(f)]}\n",
    "            \n",
    "            #print([file for file in glob.glob(path+\"/1.Data/*\",recursive=False)])"
   ]
  }
 ],
 "metadata": {
  "kernelspec": {
   "display_name": "vidpenv",
   "language": "python",
   "name": "vidpenv"
  },
  "language_info": {
   "codemirror_mode": {
    "name": "ipython",
    "version": 3
   },
   "file_extension": ".py",
   "mimetype": "text/x-python",
   "name": "python",
   "nbconvert_exporter": "python",
   "pygments_lexer": "ipython3",
   "version": "3.7.11"
  }
 },
 "nbformat": 4,
 "nbformat_minor": 5
}

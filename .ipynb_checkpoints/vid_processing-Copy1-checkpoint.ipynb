{
 "cells": [
  {
   "cell_type": "markdown",
   "id": "d53bee95-b3be-4673-9400-6da2ca80d5fb",
   "metadata": {},
   "source": [
    "# PROJECT FOR CHRISTOPHE\n",
    "\n",
    "## video_W596_W597_W602\n",
    "\n",
    "+ animal on the left"
   ]
  },
  {
   "cell_type": "code",
   "execution_count": 1,
   "id": "4b4fdd52-fdff-4939-92a6-1ff61f985f06",
   "metadata": {},
   "outputs": [],
   "source": [
    "from video_process_pck.motion_detector import *\n",
    "from video_process_pck.plot_mvm import plot_mvm\n",
    "import os\n",
    "import numpy as np\n",
    "import matplotlib.pyplot as plt"
   ]
  },
  {
   "cell_type": "markdown",
   "id": "c5dcac04-e16b-4feb-9c4d-41aeda0fd2c2",
   "metadata": {},
   "source": [
    "## Videos to process\n",
    "+ 5 sessions "
   ]
  },
  {
   "cell_type": "code",
   "execution_count": 2,
   "id": "e9236af7-4978-4957-a581-df6b6a1115a4",
   "metadata": {},
   "outputs": [],
   "source": [
    "with open(\"/media/data-108/Project_info/Sessions_to_process_Domi.txt\") as f:\n",
    "    lines = f.readlines()\n",
    "    f.close()\n",
    "    "
   ]
  },
  {
   "cell_type": "code",
   "execution_count": 7,
   "id": "9384a60c-30fd-4015-b414-8502853a3631",
   "metadata": {},
   "outputs": [
    {
     "data": {
      "text/plain": [
       "['Session\\tEphys\\n',\n",
       " \"1\\t'/media/data-106/2021-07-01_18-43-29/RecordNode101/experiment1/recording1/continuous/Neuropix-PXI-100.1'\\n\",\n",
       " \"2\\t'/media/data-106/2021-07-02_17-51-26/RecordNode101/experiment1/recording1/continuous/Neuropix-PXI-100.1'\\n\",\n",
       " \"3\\t'/media/data-106/2021-07-03_19-21-10/RecordNode101/experiment1/recording1/continuous/Neuropix-PXI-100.1'\\n\",\n",
       " \"4\\t'/media/data-106/2021-07-04_10-17-07/RecordNode101/experiment2/recording1/continuous/Neuropix-PXI-100.1'\\n\",\n",
       " \"5\\t'/media/data-107/2021-07-05_18-30-06/RecordNode101/experiment1/recording1/continuous/Neuropix-PXI-100.1'\\n\",\n",
       " '\\n',\n",
       " 'Session\\tVideo\\n',\n",
       " '1\\tBasler_acA1300-60gmNIR__21471690__20210701_184333372\\n',\n",
       " '2\\tBasler_acA1300-60gmNIR__21471690__20210702_175129792\\n',\n",
       " '3\\tBasler_acA1300-60gmNIR__21471690__20210703_192113908\\n',\n",
       " '4\\tBasler_acA1300-60gmNIR__21471690__20210704_193426968\\n',\n",
       " '5\\tBasler_acA1300-60gmNIR__21471690__20210705_183011328\\n']"
      ]
     },
     "execution_count": 7,
     "metadata": {},
     "output_type": "execute_result"
    }
   ],
   "source": [
    "lines"
   ]
  },
  {
   "cell_type": "code",
   "execution_count": 3,
   "id": "b078d69f-6494-4dff-bad1-c9d5cfa26b9b",
   "metadata": {},
   "outputs": [],
   "source": [
    "lines2=\",\".join(lines)"
   ]
  },
  {
   "cell_type": "code",
   "execution_count": 17,
   "id": "96366585-1927-4737-9221-3ec5815a3762",
   "metadata": {},
   "outputs": [
    {
     "data": {
      "text/plain": [
       "\"Session\\tEphys\\n,1\\t'/media/data-106/2021-07-01_18-43-29/RecordNode101/experiment1/recording1/continuous/Neuropix-PXI-100.1'\\n,2\\t'/media/data-106/2021-07-02_17-51-26/RecordNode101/experiment1/recording1/continuous/Neuropix-PXI-100.1'\\n,3\\t'/media/data-106/2021-07-03_19-21-10/RecordNode101/experiment1/recording1/continuous/Neuropix-PXI-100.1'\\n,4\\t'/media/data-106/2021-07-04_10-17-07/RecordNode101/experiment2/recording1/continuous/Neuropix-PXI-100.1'\\n,5\\t'/media/data-107/2021-07-05_18-30-06/RecordNode101/experiment1/recording1/continuous/Neuropix-PXI-100.1'\\n,\\n,Session\\tVideo\\n,1\\tBasler_acA1300-60gmNIR__21471690__20210701_184333372\\n,2\\tBasler_acA1300-60gmNIR__21471690__20210702_175129792\\n,3\\tBasler_acA1300-60gmNIR__21471690__20210703_192113908\\n,4\\tBasler_acA1300-60gmNIR__21471690__20210704_193426968\\n,5\\tBasler_acA1300-60gmNIR__21471690__20210705_183011328\\n\""
      ]
     },
     "execution_count": 17,
     "metadata": {},
     "output_type": "execute_result"
    }
   ],
   "source": [
    "lines2"
   ]
  },
  {
   "cell_type": "markdown",
   "id": "273f38ed-c94b-401f-adc5-fe56661c2bc5",
   "metadata": {},
   "source": [
    "# Path to FOLDERS"
   ]
  },
  {
   "cell_type": "code",
   "execution_count": 4,
   "id": "0b7e73ea-e2e7-4603-880d-8e8f081d6a4b",
   "metadata": {},
   "outputs": [],
   "source": [
    "#rats 672(L) & 674(R)\n",
    "address=\"/media/data-108/Videos/video_W596_W597_W602\"\n",
    "\n",
    "#get the names of the videos to string list\n",
    "video_list=os.listdir(address)"
   ]
  },
  {
   "cell_type": "code",
   "execution_count": 5,
   "id": "ed9a0312-6cc4-4afe-8bcd-963502a5ece3",
   "metadata": {},
   "outputs": [
    {
     "name": "stdout",
     "output_type": "stream",
     "text": [
      "Basler_acA1300-60gmNIR__21471690__20210702_175129792.mp4\n",
      "Basler_acA1300-60gmNIR__21471690__20210705_183011328.mp4\n",
      "Basler_acA1300-60gmNIR__21471690__20210704_193426968.mp4\n",
      "Basler_acA1300-60gmNIR__21471690__20210701_184333372.mp4\n",
      "Basler_acA1300-60gmNIR__21471690__20210703_192113908.mp4\n"
     ]
    }
   ],
   "source": [
    "import re\n",
    "for vid in video_list:\n",
    "    #print(\"*\"+str(vid)+\"*\")\n",
    "    if vid[:-4] in lines2:\n",
    "        print(vid)"
   ]
  },
  {
   "cell_type": "code",
   "execution_count": 32,
   "id": "059093ce-da8f-4a68-b2ae-bb8cee923cdd",
   "metadata": {},
   "outputs": [],
   "source": [
    "#other_files\n",
    "neuropix=[\"/media/data-106/2021-07-01_18-43-29/RecordNode101/experiment1/recording1/\",\n",
    " \"/media/data-106/2021-07-02_17-51-26/RecordNode101/experiment1/recording1/\",\n",
    " \"/media/data-106/2021-07-03_19-21-10/RecordNode101/experiment1/recording1/\",\n",
    " \"/media/data-106/2021-07-04_10-17-07/RecordNode101/experiment2/recording1/\",\n",
    " \"/media/data-107/2021-07-05_18-30-06/RecordNode101/experiment1/recording1/\"]"
   ]
  },
  {
   "cell_type": "markdown",
   "id": "46af0576-9438-479c-99c2-78827e496d8f",
   "metadata": {},
   "source": [
    "# Inspect motion_detector() to personalize default parameters"
   ]
  },
  {
   "cell_type": "code",
   "execution_count": 3,
   "id": "0c51985e-9eec-4115-b738-2932c9c135ff",
   "metadata": {},
   "outputs": [
    {
     "name": "stdout",
     "output_type": "stream",
     "text": [
      "(path, scale_percent=40, area=20, delta_thresh=5, output_4csv='/home/domi/Documents/video_processing/CSV_data')\n"
     ]
    }
   ],
   "source": [
    "# import required modules\n",
    "import inspect\n",
    "  \n",
    "# use signature()\n",
    "print(inspect.signature(motion_detector))"
   ]
  },
  {
   "cell_type": "code",
   "execution_count": 43,
   "id": "1cd241f9-e979-4844-9219-207bf984a249",
   "metadata": {},
   "outputs": [
    {
     "name": "stdout",
     "output_type": "stream",
     "text": [
      "Basler_acA1300-60gmNIR__21471690__20210702_175129792.mp4\n",
      "[INFO] elapsed time: 14514.49\n",
      "[INFO] approx. FPS: 98.44\n",
      "Basler_acA1300-60gmNIR__21471690__20210705_183011328.mp4\n",
      "[INFO] elapsed time: 14691.05\n",
      "[INFO] approx. FPS: 93.91\n",
      "Basler_acA1300-60gmNIR__21471690__20210704_193426968.mp4\n",
      "[INFO] elapsed time: 13589.01\n",
      "[INFO] approx. FPS: 96.03\n",
      "Basler_acA1300-60gmNIR__21471690__20210701_184333372.mp4\n",
      "[INFO] elapsed time: 14410.36\n",
      "[INFO] approx. FPS: 92.78\n",
      "Basler_acA1300-60gmNIR__21471690__20210703_192113908.mp4\n",
      "[INFO] elapsed time: 14158.51\n",
      "[INFO] approx. FPS: 94.01\n"
     ]
    }
   ],
   "source": [
    "for vid in video_list:\n",
    "    if vid[:-4] in lines2:\n",
    "        print(vid)\n",
    "        motion_detector(path=os.path.join(address,vid),\n",
    "                        delta_thresh=1, #get raw diff\n",
    "                        output_4csv=os.path.join(\"/home/domi/video_proc/CSV_data\",\n",
    "                                                 address[-16:]))"
   ]
  },
  {
   "cell_type": "markdown",
   "id": "ff14f976-c253-40cb-b44d-65bbbdf95bbc",
   "metadata": {},
   "source": [
    "### **Take 5 processed csv and simlink for vids, create txt for each rat, save in new folder**\n",
    "\n",
    "# to do: CHMOD data-119\n",
    "folder name: rat{number}_pattern"
   ]
  },
  {
   "cell_type": "code",
   "execution_count": 7,
   "id": "4efcd6de-aa3e-4125-b0df-49575a08070b",
   "metadata": {},
   "outputs": [],
   "source": [
    "output4ratFolders=\"/media/data-119/\""
   ]
  },
  {
   "cell_type": "code",
   "execution_count": 8,
   "id": "d9cd4964-8ed1-4252-a6a0-c0179118dadc",
   "metadata": {},
   "outputs": [],
   "source": [
    "rat=\"rat596\""
   ]
  },
  {
   "cell_type": "code",
   "execution_count": 25,
   "id": "590f83c7-4336-4b91-bb40-a27a5754bbc7",
   "metadata": {},
   "outputs": [
    {
     "name": "stdout",
     "output_type": "stream",
     "text": [
      "rat596_20210702_175129\n",
      "rat596_20210705_183011\n",
      "rat596_20210704_193426\n",
      "rat596_20210701_184333\n",
      "rat596_20210703_192113\n"
     ]
    }
   ],
   "source": [
    "for vid in video_list:\n",
    "    if vid[:-4] in lines2:\n",
    "        #print(vid)\n",
    "        \n",
    "        #match date (session)\n",
    "        pattern=vid[-22:-7]\n",
    "        \n",
    "        #name of the new folder on 119 for the session\n",
    "        newFolder=rat+\"_\"+pattern\n",
    "        print(newFolder)\n",
    "        \n",
    "        #create the new folder is it doen't exist\n",
    "        if not os.path.exists(os.path.join(output4ratFolders,newFolder)):\n",
    "            os.mkdir(os.path.join(output4ratFolders,newFolder))\n",
    "        \n",
    "            #create simlink for vid\n",
    "            path2video=os.path.join(address,vid) #path to src\n",
    "            os.symlink(path2video, os.path.join(output4ratFolders,newFolder,newFolder+\".mp4\"))\n",
    "        \n",
    "        "
   ]
  },
  {
   "cell_type": "code",
   "execution_count": 43,
   "id": "098754d1-8ea3-46e3-b57e-dae7e6021072",
   "metadata": {},
   "outputs": [],
   "source": [
    "def sync_creator(path2files):\n",
    "    \"\"\"creates sync channel for video\"\"\"\n",
    "    \n",
    "    lfp=\"continuous/Neuropix-PXI-100.1/\"\n",
    "    ttl=\"events/Neuropix-PXI-100.1/TTL_2/\"\n",
    "    tmp_ttl=np.load(os.path.join(path2files,ttl,\"timestamps.npy\"))\n",
    "    chan_st=np.load(os.path.join(path2files,ttl,\"channel_states.npy\"))\n",
    "    tmp_lfp=np.load(os.path.join(path2files,lfp,\"timestamps.npy\"))\n",
    "    \n",
    "    #substract beggining of recording from begging of vid for timestamps of binary =1\n",
    "    tmp_vid = tmp_ttl[chan_st == 1] - tmp_lfp[0] - 1\n",
    "    return tmp_vid"
   ]
  },
  {
   "cell_type": "code",
   "execution_count": 64,
   "id": "f0819d90-1f41-4683-ad5c-0584fc8fd319",
   "metadata": {},
   "outputs": [
    {
     "name": "stdout",
     "output_type": "stream",
     "text": [
      "[10056 10156 10256 10356 10456 10556 10656 10756 10856 10956 11056 11156\n",
      " 11256 11356 11456 11557 11657 11757 11857 11957]\n",
      "[7180 7280 7380 7480 7580 7680 7780 7880 7980 8080 8180 8280 8380 8480\n",
      " 8580 8680 8780 8880 8980 9080]\n",
      "[6282 6382 6482 6582 6682 6782 6882 6982 7082 7182 7282 7382 7482 7582\n",
      " 7682 7782 7882 7982 8082 8182]\n",
      "[10288 10388 10489 10589 10689 10789 10889 10989 11089 11189 11289 11389\n",
      " 11489 11589 11689 11789 11889 11989 12089 12189]\n",
      "[ 8957  9057  9157  9257  9357  9457  9557  9657  9757  9857  9957 10057\n",
      " 10157 10257 10357 10457 10557 10657 10757 10857]\n"
     ]
    }
   ],
   "source": [
    "#groups=[]\n",
    "import glob\n",
    "\n",
    "#motion detection output csv files\n",
    "mvmFolder=\"/home/domi/video_proc/CSV_data/o_W596_W597_W602/\"\n",
    "csvs=os.listdir(mvmFolder) \n",
    "for npix in neuropix:\n",
    "    #create sync f. and save it to rat folders in 119\n",
    "    \n",
    "    #if vid[:-4] in lines2:       \n",
    "    #    #match date (session)\n",
    "    #    pattern=vid[-22:-7]\n",
    "    \n",
    "    \n",
    "    #extract date from the session.. we will save the sync in the rat folder according to this pattern\n",
    "    match=re.search(\"2021.(\\d+).(\\d+)\", npix)\n",
    "    date = pd.to_datetime(match.group(), format='%Y-%m-%d')\n",
    "    dateInt=date.strftime(\"%Y%m%d\")\n",
    "            \n",
    "    sync_chan=sync_creator(npix)\n",
    "    print(sync_chan[:20])\n",
    "    \n",
    "    #destination folder:\n",
    "    #print(glob.glob(\"/media/data-119/rat596_\"+dateInt+\"*/\"))\n",
    "    dest=os.path.join(glob.glob(\"/media/data-119/rat596_\"+dateInt+\"*/\")[0])\n",
    "    \n",
    "    #save sync as txt\n",
    "    np.savetxt(dest+\"rat596_\"+dateInt+\"_\"+dest[-7:-1]+\"tmstp.txt\",sync_chan,fmt='%s')\n",
    "    \n",
    "    #create txt file for mvm for the rat\n",
    "\n",
    "    for i in range(len(csvs)):\n",
    "        if re.search(dateInt, csvs[i]):\n",
    "            df1 = pd.read_csv(os.path.join(mvmFolder,csvs[i]), sep='\\t',\n",
    "                             index_col=\"timestamp\")\n",
    "            \n",
    "            rat1FileName=dest+\"rat596_\"+dateInt+\"_\"+dest[-7:-1]+\"mvm.txt\"\n",
    "            np.savetxt(rat1FileName, df1[\"mvm_rat1\"], delimiter=\"\\t\") "
   ]
  },
  {
   "cell_type": "code",
   "execution_count": 69,
   "id": "0800376e-6790-4afd-93cb-84156e779779",
   "metadata": {},
   "outputs": [],
   "source": [
    "#create symlink for .dat and .eeg (->.lfp)\n",
    "eegSource=\"continuous/Neuropix-PXI-100.1/\"\n",
    "datSource=\"continuous/Neuropix-PXI-100.0/\"\n",
    "\n",
    "for ad in neuropix:\n",
    "    #match the date\n",
    "    match=re.search(\"2021.(\\d+).(\\d+)\", ad)\n",
    "    date = pd.to_datetime(match.group(), format='%Y-%m-%d')\n",
    "    dateInt=date.strftime(\"%Y%m%d\")\n",
    "    dest=os.path.join(glob.glob(\"/media/data-119/rat596_\"+dateInt+\"*/\")[0])\n",
    "    \n",
    "    #create symlink eeg -> lfp\n",
    "    try:\n",
    "        os.symlink(os.path.join(ad,eegSource,\"continuous.eeg\"), dest+\"rat596_\"+dateInt+\"_\"+dest[-7:-1]+\".lfp\")\n",
    "    except FileExistsError:\n",
    "        pass\n",
    "    \n",
    "    #create symlink dat -> dat\n",
    "    try:\n",
    "        os.symlink(os.path.join(ad,datSource,\"continuous.dat\"), dest+\"rat596_\"+dateInt+\"_\"+dest[-7:-1]+\".dat\")\n",
    "    except FileExistsError:\n",
    "        pass"
   ]
  },
  {
   "cell_type": "markdown",
   "id": "a4c190da-6b47-463d-b516-81c18d0ce698",
   "metadata": {},
   "source": [
    "for animal in sessionsSYNC.keys():\n",
    "    for tmstp in sessionsSYNC[animal][\"tmstp_ttl\"]:\n",
    "        g=[tmstp]\n",
    "        match=re.search(\"2021.(\\d+).(\\d+).(\\d+).(\\d+).(\\d+)\", tmstp)\n",
    "        newSearch=match.group()\n",
    "        for i in range(len(sessionsSYNC[animal][\"channelStates_ttl\"])):\n",
    "            if re.search(newSearch, sessionsSYNC[animal][\"channelStates_ttl\"][i]):\n",
    "                g.append(sessionsSYNC[animal][\"channelStates_ttl\"][i])\n",
    "        for i in range(len(sessionsSYNC[animal][\"tmstp_lfp\"])):\n",
    "            if re.search(newSearch, sessionsSYNC[animal][\"tmstp_lfp\"][i]):\n",
    "                g.append(sessionsSYNC[animal][\"tmstp_lfp\"][i])\n",
    "        groups.append(g)"
   ]
  },
  {
   "cell_type": "code",
   "execution_count": null,
   "id": "d58b6322-71dd-414b-a038-18827b3716ae",
   "metadata": {},
   "outputs": [],
   "source": [
    "csvs=os.listdir(\"/home/domi/video_proc/CSV_data/o_W596_W597_W602/\")\n",
    "for i in range(len(csvs)):\n",
    "    df1 = pd.read_csv(csvs[i], sep='\\t',\n",
    "                     index_col=\"timestamp\")\n",
    "    df1.index = pd.to_datetime(df1.index)\n",
    "    p=\"/home/domi/Documents/video_processing/CSV_data/textFiles/\"\n",
    "    \n",
    "    rat1FileName=p+'rat672_'+str(df1.index[0])+\"_\"+str(df1.index[-1])+'.txt'\n",
    "    np.savetxt(rat1FileName.replace(\" \",\"-\"), df1[\"mvm_rat1\"], delimiter=\"\\t\") \n",
    "    \n",
    "    #rat2FileName=p+'rat674_'+str(df1.index[0])+\"_\"+str(df1.index[-1])+'.txt'\n",
    "    #np.savetxt(rat2FileName.replace(\" \",\"-\"), df1[\"mvm_rat2\"], delimiter=\"\\t\") \n",
    "    \n",
    "    #timeFileName=p+'rat674_'+str(df1.index[0])+\"_\"+str(df1.index[-1])+'TIME.txt'\n",
    "    #np.savetxt(timeFileName.replace(\" \",\"-\"), np.array(df1[\"duration\"]), \n",
    "    #           delimiter=\"\\t\",fmt='%s') "
   ]
  },
  {
   "cell_type": "code",
   "execution_count": null,
   "id": "e2c27725-bca5-4c67-8f21-dbf9b63b599f",
   "metadata": {},
   "outputs": [],
   "source": [
    "#save sync channel in rat folders"
   ]
  },
  {
   "cell_type": "code",
   "execution_count": null,
   "id": "0dff2fee-e3e8-4995-9e25-da1b1fe1bedb",
   "metadata": {},
   "outputs": [],
   "source": [
    "#timestamps_video_frames = timestamps_events[channel_states == 1] - timestamps_lfp[0] - 1"
   ]
  },
  {
   "cell_type": "code",
   "execution_count": 21,
   "id": "c6f30f47-eaaf-4adf-8159-2c87e23d07a2",
   "metadata": {},
   "outputs": [],
   "source": [
    "os.chdir(\"/home/domi/video_proc/CSV_data/video_W672_W674/\")"
   ]
  },
  {
   "cell_type": "markdown",
   "id": "32712c03-314e-4e9b-b502-1dafd76bac16",
   "metadata": {},
   "source": [
    "https://fantashit.com/re-run-cmake-or-configure-script-in-function-cvshowimage/"
   ]
  },
  {
   "cell_type": "code",
   "execution_count": 31,
   "id": "dcab690e-9272-452c-adfa-6379e0d440c9",
   "metadata": {},
   "outputs": [],
   "source": [
    "csvs=os.listdir(\"/home/domi/video_proc/CSV_data/video_W672_W674/\")"
   ]
  },
  {
   "cell_type": "code",
   "execution_count": 34,
   "id": "1ab76bee-7609-4940-a06d-0f4f5ae72774",
   "metadata": {},
   "outputs": [
    {
     "data": {
      "text/plain": [
       "'acA1300-60gmNIR__21471690__20211213_180838731.csv'"
      ]
     },
     "execution_count": 34,
     "metadata": {},
     "output_type": "execute_result"
    }
   ],
   "source": [
    "csvs[0]"
   ]
  },
  {
   "cell_type": "code",
   "execution_count": null,
   "id": "ee875269-2381-4ee3-a26a-d67c00400ead",
   "metadata": {},
   "outputs": [],
   "source": [
    "df1 = pd.read_csv(csvs[0], sep='\\t', parse_dates=[\"timestamp\",\"duration\"],\n",
    "                 index_col=\"timestamp\")"
   ]
  },
  {
   "cell_type": "code",
   "execution_count": null,
   "id": "1411a5d9-6580-400d-98b4-60fdadd76392",
   "metadata": {},
   "outputs": [],
   "source": [
    "#for csv in csvs[0]:\n",
    "plot_mvm(csvs[0],\n",
    "        start={\"hours\": 0, \"minutes\": 1, \"seconds\": 0},\n",
    "         dt={\"hours\": 0, \"minutes\": 1, \"seconds\": 0},\n",
    "         ylim=5 * 1e6,\n",
    "         plot_all=True,\n",
    "        save=True) "
   ]
  },
  {
   "cell_type": "code",
   "execution_count": 36,
   "id": "3d44372b-efa7-4d22-93af-bef9779ca0e3",
   "metadata": {},
   "outputs": [],
   "source": [
    "first_vid = pd.read_csv(csvs[0],\n",
    "                            sep='\\t', index_col=\"timestamp\", parse_dates=[2])"
   ]
  },
  {
   "cell_type": "code",
   "execution_count": 38,
   "id": "b2d3794b-c4dd-4d4d-b191-e9dd3b002130",
   "metadata": {},
   "outputs": [
    {
     "ename": "NameError",
     "evalue": "name 'ylim' is not defined",
     "output_type": "error",
     "traceback": [
      "\u001b[0;31m---------------------------------------------------------------------------\u001b[0m",
      "\u001b[0;31mNameError\u001b[0m                                 Traceback (most recent call last)",
      "\u001b[0;32m/tmp/ipykernel_281767/2782471296.py\u001b[0m in \u001b[0;36m<module>\u001b[0;34m\u001b[0m\n\u001b[1;32m     10\u001b[0m \u001b[0;34m\u001b[0m\u001b[0m\n\u001b[1;32m     11\u001b[0m \u001b[0;32mfor\u001b[0m \u001b[0max\u001b[0m \u001b[0;32min\u001b[0m \u001b[0;34m[\u001b[0m\u001b[0max1\u001b[0m\u001b[0;34m,\u001b[0m \u001b[0max2\u001b[0m\u001b[0;34m]\u001b[0m\u001b[0;34m:\u001b[0m\u001b[0;34m\u001b[0m\u001b[0;34m\u001b[0m\u001b[0m\n\u001b[0;32m---> 12\u001b[0;31m         \u001b[0max\u001b[0m\u001b[0;34m.\u001b[0m\u001b[0mset_ylim\u001b[0m\u001b[0;34m(\u001b[0m\u001b[0;34m(\u001b[0m\u001b[0;36m0\u001b[0m\u001b[0;34m,\u001b[0m \u001b[0mylim\u001b[0m\u001b[0;34m)\u001b[0m\u001b[0;34m)\u001b[0m\u001b[0;34m\u001b[0m\u001b[0;34m\u001b[0m\u001b[0m\n\u001b[0m\u001b[1;32m     13\u001b[0m         \u001b[0max\u001b[0m\u001b[0;34m.\u001b[0m\u001b[0mset_title\u001b[0m\u001b[0;34m(\u001b[0m\u001b[0;34m\"movement (pixel change)\"\u001b[0m\u001b[0;34m,\u001b[0m \u001b[0mfontsize\u001b[0m\u001b[0;34m=\u001b[0m\u001b[0;36m20\u001b[0m\u001b[0;34m)\u001b[0m\u001b[0;34m\u001b[0m\u001b[0;34m\u001b[0m\u001b[0m\n\u001b[1;32m     14\u001b[0m         \u001b[0max\u001b[0m\u001b[0;34m.\u001b[0m\u001b[0mset_xlabel\u001b[0m\u001b[0;34m(\u001b[0m\u001b[0;34m\"time\"\u001b[0m\u001b[0;34m,\u001b[0m \u001b[0mfontsize\u001b[0m\u001b[0;34m=\u001b[0m\u001b[0;36m16\u001b[0m\u001b[0;34m)\u001b[0m\u001b[0;34m\u001b[0m\u001b[0;34m\u001b[0m\u001b[0m\n",
      "\u001b[0;31mNameError\u001b[0m: name 'ylim' is not defined"
     ]
    },
    {
     "data": {
      "image/png": "[encoded data removed]",
      "text/plain": [
       "<Figure size 1152x576 with 2 Axes>"
      ]
     },
     "metadata": {
      "needs_background": "light"
     },
     "output_type": "display_data"
    }
   ],
   "source": [
    "fig, (ax1, ax2) = plt.subplots(1, 2, figsize=(16, 8))\n",
    "    \n",
    "    \n",
    "ax1.plot(first_vid.index,\n",
    "     first_vid[\"mvm_rat1\"],\n",
    "     label=\"rat_1\")\n",
    "ax2.plot(first_vid.index,\n",
    "         first_vid[\"mvm_rat2\"],\n",
    "         label=\"rat_2\")\n",
    "\n",
    "for ax in [ax1, ax2]:\n",
    "        ax.set_ylim((0, ylim))\n",
    "        ax.set_title(\"movement (pixel change)\", fontsize=20)\n",
    "        ax.set_xlabel(\"time\", fontsize=16)\n",
    "        ax.set_ylabel(\"sum of pixel change\", fontsize=16)\n",
    "        ax.tick_params(axis='x', labelrotation=60, labelsize=14)\n",
    "        ax.xaxis.set_major_locator(plt.AutoLocator())\n",
    "        ax.legend()"
   ]
  },
  {
   "cell_type": "markdown",
   "id": "012d67f6-ab74-4c38-9618-4c2f8cf67170",
   "metadata": {},
   "source": [
    "## **Plot 5 videos from july MATHIAS**"
   ]
  },
  {
   "cell_type": "code",
   "execution_count": 11,
   "id": "2a562525-6dfe-46cc-b0e0-ebf3a825c0bc",
   "metadata": {},
   "outputs": [
    {
     "data": {
      "image/png": "[encoded data removed]",
      "text/plain": [
       "<Figure size 1152x576 with 2 Axes>"
      ]
     },
     "metadata": {
      "needs_background": "light"
     },
     "output_type": "display_data"
    }
   ],
   "source": [
    "plot_mvm(\"/home/domi/video_proc/CSV_data/o_W596_W597_W602/acA1300-60gmNIR__21471690__20210701_184333372.csv\")"
   ]
  },
  {
   "cell_type": "code",
   "execution_count": null,
   "id": "d09784d9-75de-4723-892c-eaf45d40d6f0",
   "metadata": {},
   "outputs": [],
   "source": []
  }
 ],
 "metadata": {
  "kernelspec": {
   "display_name": "vidpenv",
   "language": "python",
   "name": "vidpenv"
  },
  "language_info": {
   "codemirror_mode": {
    "name": "ipython",
    "version": 3
   },
   "file_extension": ".py",
   "mimetype": "text/x-python",
   "name": "python",
   "nbconvert_exporter": "python",
   "pygments_lexer": "ipython3",
   "version": "3.7.11"
  }
 },
 "nbformat": 4,
 "nbformat_minor": 5
}

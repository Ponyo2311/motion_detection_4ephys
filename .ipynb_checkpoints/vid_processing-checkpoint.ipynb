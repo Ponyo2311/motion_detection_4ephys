{
 "cells": [
  {
   "cell_type": "code",
   "execution_count": 5,
   "id": "4b4fdd52-fdff-4939-92a6-1ff61f985f06",
   "metadata": {},
   "outputs": [],
   "source": [
    "from video_process_pck.motion_detector import *\n",
    "from video_process_pck.plot_mvm import plot_mvm\n",
    "import os\n",
    "import numpy as np\n",
    "import matplotlib.pyplot as plt"
   ]
  },
  {
   "cell_type": "markdown",
   "id": "162715d8-dfa2-4ea5-ae85-1de319ed44a8",
   "metadata": {},
   "source": [
    "## test changed frame rate on 2 mathias's videos"
   ]
  },
  {
   "cell_type": "code",
   "execution_count": 6,
   "id": "e9e29b33-bcdb-4c95-a885-d54f25390fc6",
   "metadata": {},
   "outputs": [],
   "source": [
    "listOfTests=[\"/media/data-108/Videos/video_W596_W597_W602/Basler_acA1300-60gmNIR__21471690__20210616_163201007_new.mp4\",\n",
    "             \"/media/data-108/Videos/video_W596_W597_W602/Basler_acA1300-60gmNIR__21471690__20210616_163201007.mp4\"]"
   ]
  },
  {
   "cell_type": "code",
   "execution_count": 7,
   "id": "d94e7f0f-f4c9-4647-805a-13d69f693dfc",
   "metadata": {},
   "outputs": [
    {
     "name": "stdout",
     "output_type": "stream",
     "text": [
      "[INFO] elapsed time: 3024.51\n",
      "[INFO] approx. FPS: 95.68\n",
      "[INFO] elapsed time: 2889.61\n",
      "[INFO] approx. FPS: 100.15\n"
     ]
    }
   ],
   "source": [
    "motion_detector(listOfTests[0], scale_percent=40, area=20, delta_thresh=1,\n",
    "                        output_4csv=\"/home/domi/video_proc/TESTS/NEW/\")\n",
    "motion_detector(listOfTests[1], scale_percent=40, area=20, delta_thresh=1,\n",
    "                        output_4csv=\"/home/domi/video_proc/TESTS/OLD/\")"
   ]
  },
  {
   "cell_type": "code",
   "execution_count": 8,
   "id": "9311bbd9-4fd2-410c-a1ed-ecc293db1981",
   "metadata": {},
   "outputs": [],
   "source": [
    "df_new=pd.read_csv(\"/home/domi/video_proc/TESTS/NEW/acA1300-60gmNIR__21471690__20210616_163201007_new.csv\", sep=\"\\t\")"
   ]
  },
  {
   "cell_type": "code",
   "execution_count": 14,
   "id": "dfb24ea5-22eb-453c-bcca-08605e52067a",
   "metadata": {},
   "outputs": [],
   "source": [
    "df_old=pd.read_csv(\"/home/domi/video_proc/TESTS/OLD/acA1300-60gmNIR__21471690__20210616_163201007.csv\",\n",
    "                  sep=\"\\t\")\n"
   ]
  },
  {
   "cell_type": "markdown",
   "id": "4789b6a7-b0eb-4b1a-a88a-e49bee205729",
   "metadata": {},
   "source": [
    "-----------------------------------------------------------------------------------------------------------\n",
    "# SHORTER VIDEO (test on mathias's video) - to see whether the customization of CAP_PROP_POS_MSEC works\n",
    "\n",
    "rat596_2021-06-16_16-31-53 (LEFT ON VIDEO)"
   ]
  },
  {
   "cell_type": "code",
   "execution_count": 54,
   "id": "52dcc87c-e454-481a-99ca-4aa1c693be1a",
   "metadata": {},
   "outputs": [],
   "source": [
    "#try: cap_prop_pos_msec... https://www.quora.com/How-do-I-decrease-the-frames-per-second-in-OpenCV-python\n",
    "\n",
    "def motion_detector_pos_msec(path, scale_percent=40, area=20, delta_thresh=1,\n",
    "                    output_4csv=\"/home/domi/Documents/tests/\",\n",
    "                   ephys_time_path=\"/media/data-119/rat596_20210702_175129/rat596_20210702_175129tmstp.txt\"):\n",
    "    \"\"\"\n",
    "    path: path to the video\n",
    "    area: minimum area size.... TO INCLUDE!!!\n",
    "    ephys_time: path to ephys timestamp.. load it and convert to millisec (divide by 2.5) \n",
    "        -> iterable input for frame position selection (CAP_PROP_POS_MSEC)\n",
    "    \"\"\"\n",
    "    # 1) EPHYS\n",
    "    #read file\n",
    "    e = open(ephys_time_path,\"r\")\n",
    "    ephys_time = [[int(x) for x in line.split()] for line in e]\n",
    "    e.close()\n",
    "    ephys_time = np.concatenate(ephys_time)\n",
    "    \n",
    "    #convert eph to MILLIseconds (-> then diff it -> NO NEED TO DO THIS IF  setting POS_MSEC)\n",
    "    ephys_time = ephys_time/2.5           # CORRECTION (#divide by sampling freq -> in secs now)\n",
    "                                         # don't leave it in sec.. should be in millisec (/2500 *1000)? \n",
    "    diff_ephys_time = np.diff(ephys_time)   #exact TIME differences between frames... seems like i can't use this\n",
    "    ephys_time_0 = [i - ephys_time[0] for i in ephys_time]\n",
    "    \n",
    "    #check............DELETE LATER\n",
    "    print(ephys_time_0[:10])\n",
    "    #...........................\n",
    "    \n",
    "    \n",
    "    # 2) OUTPUT\n",
    "    #if specified output folder doesn't exist, create it\n",
    "    if not os.path.exists(output_4csv):\n",
    "        os.mkdir(output_4csv)\n",
    "\n",
    "\n",
    "    # 3) VID_PROC\n",
    "    # read from a video file \n",
    "    vs = cv2.VideoCapture(path)\n",
    "    \n",
    "    #initiate FramePerSec (FPS) count\n",
    "    fps = FPS().start()\n",
    "\n",
    "    # initialize average frame, frame delta and thresholded frame\n",
    "    avgframe = [[], []]\n",
    "    frameDelta = [[], []]\n",
    "    thresh = [[], []]\n",
    "\n",
    "    # initiate dictionary\n",
    "    ts_dict = {\"frame_nb\": [], \"millisec\": [], \"mvm_rat1\": [], \"mvm_rat2\": []}\n",
    "\n",
    "    # initiate dimensions for splitting\n",
    "    # n_rows=1\n",
    "    n_cols = 2  # 2 rats = 2 parts split with a vertical line\n",
    "                # division in the middle\n",
    "\n",
    "    # loop over the frames of the video\n",
    "    n = 0\n",
    "    \n",
    "    #DELETE AFTER___________________________________________________________________________________________\n",
    "    milliseconds = []\n",
    "    m = 0\n",
    "    #________________________________________________________________________________________________________\n",
    "    \n",
    "    while True:\n",
    "        \n",
    "        #SET the positions where the frame should be read from in milliseconds\n",
    "        try:\n",
    "            vs.set(cv2.CAP_PROP_POS_MSEC, ephys_time_0[n])\n",
    "            last_frame = ephys_time_0[n]\n",
    "        \n",
    "        #if there's more frames to process than there is datapoints in ephys tmp (which is bad)\n",
    "        except IndexError:\n",
    "            print(\"More frames than ephys\")\n",
    "            if m == 0:\n",
    "                vs.set(cv2.CAP_PROP_POS_MSEC, ephys_time_0[n]+40)\n",
    "                m = ephys_time_0[n]+40\n",
    "            else:\n",
    "                vs.set(cv2.CAP_PROP_POS_MSEC, m+40)\n",
    "                m += 40\n",
    "        \n",
    "        ret, frame = vs.read()  # ret says whether the frame exists\n",
    "\n",
    "        if frame is None:\n",
    "            break  # end of video if no more frames\n",
    "\n",
    "        # get timestamp of each frame...\n",
    "        frame_nb = n\n",
    "        millisec = str(vs.get(cv2.CAP_PROP_POS_MSEC))  # in millisecond\n",
    "        \n",
    "        #DELETE AFTER___________________________________________________________________________________________\n",
    "        milliseconds.append(vs.get(cv2.CAP_PROP_POS_MSEC))\n",
    "        #_________________________________________________________________________________________________________\n",
    "        \n",
    "        ts_dict = timestamping(ts_dict=ts_dict,\n",
    "                               frame_nb=frame_nb,\n",
    "                               millisec=millisec)\n",
    "        \n",
    "        # resize the frame, convert it to grayscale, and blur it\n",
    "        frame = resizing(frame=frame, scale_percent=scale_percent)\n",
    "        gray = cv2.cvtColor(frame, cv2.COLOR_BGR2GRAY)\n",
    "        gray = cv2.GaussianBlur(gray, (21, 21), 0)\n",
    "\n",
    "        # get gray's shape for splitting............................................\n",
    "        height, width = gray.shape\n",
    "\n",
    "        # divide the frame and calculate background and change for each part\n",
    "        for i in range(n_cols):\n",
    "            tmp_img = gray[0:height, int(i * width / 2): int((i + 1) * width / 2)]  # take all hight and half of width\n",
    "\n",
    "            # initialize average frame (=background)\n",
    "            if len(avgframe[i]) == 0:\n",
    "                avgframe[i] = tmp_img.copy().astype(\"float\")\n",
    "\n",
    "            # update average & calculate difference between current and running avg\n",
    "            cv2.accumulateWeighted(tmp_img, avgframe[i], 0.5)\n",
    "            frameDelta[i] = cv2.absdiff(tmp_img,\n",
    "                                        cv2.convertScaleAbs(avgframe[i]))\n",
    "\n",
    "            # threshold the delta image, dilate the thresholded image to fill\n",
    "            # in holes, then find contours on thresholded image\n",
    "            thresh[i] = cv2.threshold(frameDelta[i], delta_thresh, 255,\n",
    "                                      cv2.THRESH_BINARY)[1]\n",
    "            thresh[i] = cv2.dilate(thresh[i], None, iterations=1)  # spread the white pixels\n",
    "\n",
    "        # append mvm count for each rat\n",
    "        for i in range(2):\n",
    "            ts_dict[f\"mvm_rat{i + 1}\"].append(np.sum(thresh[i]))\n",
    "        \n",
    "        #itter loop\n",
    "        n += 1\n",
    "        \n",
    "        # update FPS counter\n",
    "        fps.update()\n",
    "\n",
    "        # DISPLAY VIDEOS (IT'S 2x LONGER THIS WAY... 92:177 FPS)!!!\n",
    "        # cv2.imshow(\"webcam\", frame)\n",
    "        # cv2.imshow(\"Thresh_rat1\", thresh[0])\n",
    "        # cv2.imshow(\"Thresh_rat2\", thresh[1])\n",
    "        # cv2.imshow(\"Frame Delta_rat2\", frameDelta[1])\n",
    "\n",
    "        # cv2.waitKey(1)\n",
    "        keyboard = cv2.waitKey(1)\n",
    "        if keyboard == 'q' or keyboard == 27:\n",
    "            break\n",
    "\n",
    "        # testing, remove after...................................................................................\n",
    "        #if n > 25 * 60 * 3: #5 minutes\n",
    "            #print(milliseconds[n-1])\n",
    "        \n",
    "    cv2.destroyAllWindows()\n",
    "    newpath, first_stamp = csv_name_creator(path, output_folder=output_4csv)\n",
    "    ts_df = pd.DataFrame(ts_dict)\n",
    "\n",
    "    ts_df['duration'] = [timedelta(milliseconds=float(i)) for i in ts_df['millisec']]\n",
    "    ts_df['duration'] = ts_df['duration'].values.astype('datetime64[ns]')\n",
    "    ts_df['duration'] = [i.strftime(\"%H:%M:%S.%f\")[:-3] for i in ts_df['duration']]\n",
    "\n",
    "    ts_df['timestamp'] = [pd.to_timedelta(str(i) + 'millisecond') +\n",
    "                                 first_stamp for i in ts_df['millisec']]\n",
    "    ts_df.set_index('timestamp', inplace=True)\n",
    "\n",
    "    order = [0, 1, 4, 2, 3]  # setting column's order\n",
    "    ts_df = ts_df[[ts_df.columns[i] for i in order]]\n",
    "\n",
    "    ts_df.to_csv(csv_name_creator(path, output_folder=output_4csv)[0], sep='\\t')\n",
    "\n",
    "    # stop the timer and display FPS information\n",
    "    fps.stop()\n",
    "    print(\"[INFO] elasped time: {:.2f}\".format(fps.elapsed()))\n",
    "    print(\"[INFO] approx. FPS: {:.2f}\".format(fps.fps()))\n",
    "    \n",
    "    #save df as csv\n",
    "    ts_df.to_csv(newpath, sep='\\t')\n",
    "    \n",
    "    # return the df with timestamp+mvm count\n",
    "    return ts_df , milliseconds#..........................................................................................\n",
    "    \n",
    "    #return milliseconds\n",
    "\n",
    "\n",
    "\n",
    "    # stop the timer and print Frame Per Sec info\n",
    "    fps.stop()\n",
    "    print(\"[INFO] elapsed time: {:.2f}\".format(fps.elapsed()))\n",
    "    print(\"[INFO] approx. FPS: {:.2f}\".format(fps.fps()))\n",
    "\n",
    "    # CLEAN UP\n",
    "    cv2.destroyAllWindows()\n",
    "\n",
    "    # get path for csv output & init of timestamp (extracted from the video filename)\n",
    "    newpath, first_stamp = csv_name_creator(path, output_folder=output_4csv)\n",
    "\n",
    "    # convert dict do pandas data frame...\n",
    "    ts_df = pd.DataFrame(ts_dict)\n",
    "\n",
    "    # create column 'duration' (millisec converted to time)\n",
    "    ts_df['duration'] = [timedelta(milliseconds=float(i)) for i in ts_df['millisec']]\n",
    "    # to keep only the time of the timedelta (otherwise give you estimate with days as well)\n",
    "    ts_df['duration'] = ts_df['duration'].values.astype('datetime64[ns]')\n",
    "    ts_df['duration'] = [i.strftime(\"%H:%M:%S.%f\")[:-3] for i in ts_df['duration']]\n",
    "\n",
    "    # ...set exact datetime timestamp (adding the first stamp to milliseconds)...\n",
    "    ts_df['timestamp'] = [pd.to_timedelta(str(i) + 'millisecond') +\n",
    "                          first_stamp for i in ts_df['millisec']]\n",
    "    ts_df.set_index('timestamp', inplace=True)\n",
    "\n",
    "    order = [0, 1, 4, 2, 3]  # setting columns' order\n",
    "    ts_df = ts_df[[ts_df.columns[i] for i in order]]\n",
    "\n",
    "    # ...and save it to info directory\n",
    "    ts_df.to_csv(newpath, sep='\\t')\n",
    "    # return ts_df"
   ]
  },
  {
   "cell_type": "markdown",
   "id": "c01d0d9d-fc5f-4f1b-b0ff-63d34680ec1f",
   "metadata": {},
   "source": [
    "### create ephys tmpst for /media/data-109/2021-06-16_16-31-53/RecordNode102/experiment1/recording1/"
   ]
  },
  {
   "cell_type": "code",
   "execution_count": 45,
   "id": "3c1eb408-49e2-405b-b2f2-2329cd70b28a",
   "metadata": {},
   "outputs": [],
   "source": [
    "#load files to create SYNC\n",
    "ttl_tmp_testRat=np.load(\"/media/data-109/2021-06-16_16-31-53/RecordNode102/experiment1/recording1/events/Neuropix-PXI-100.1/TTL_2/timestamps.npy\")\n",
    "chan_states_testRat=np.load(\"/media/data-109/2021-06-16_16-31-53/RecordNode102/experiment1/recording1/events/Neuropix-PXI-100.1/TTL_2/channel_states.npy\")\n",
    "lfp_tmp_testRat=np.load(\"/media/data-109/2021-06-16_16-31-53/RecordNode102/experiment1/recording1/continuous/Neuropix-PXI-100.1/timestamps.npy\")"
   ]
  },
  {
   "cell_type": "code",
   "execution_count": 46,
   "id": "81cb0783-9b0b-4d7b-8393-bc2bef823037",
   "metadata": {},
   "outputs": [],
   "source": [
    "#SYNC FILE\n",
    "vid_tmp_testRat = ttl_tmp_testRat[chan_states_testRat == 1] - lfp_tmp_testRat[0] - 1"
   ]
  },
  {
   "cell_type": "code",
   "execution_count": 50,
   "id": "fdd6e05a-1989-4bff-8bd8-af7f0e04367a",
   "metadata": {},
   "outputs": [],
   "source": [
    "#save sync as txt\n",
    "np.savetxt(\"/home/domi/video_proc/TESTS/rat596_test_tmstp.txt\",vid_tmp_testRat,fmt='%s')"
   ]
  },
  {
   "cell_type": "markdown",
   "id": "3dfa2624-5bd8-4bf3-914b-a59d5bf7efc5",
   "metadata": {},
   "source": [
    "### run motion_detector on test"
   ]
  },
  {
   "cell_type": "code",
   "execution_count": null,
   "id": "1f293328-ae09-4c63-8a8b-53b525b06e11",
   "metadata": {},
   "outputs": [
    {
     "name": "stdout",
     "output_type": "stream",
     "text": [
      "[0.0, 40.0, 80.0, 120.0, 160.0, 200.0, 240.0, 280.0, 320.0, 360.0]\n"
     ]
    }
   ],
   "source": [
    "df, ms=motion_detector_pos_msec(\"/media/data-108/Videos/video_W596_W597_W602/Basler_acA1300-60gmNIR__21471690__20210616_163201007.mp4\",\n",
    "                scale_percent=40, area=20, delta_thresh=1,\n",
    "                    output_4csv=\"/home/domi/video_proc/TESTS\",\n",
    "                   ephys_time_path=\"/home/domi/video_proc/TESTS/rat596_test_tmstp.txt\")"
   ]
  },
  {
   "cell_type": "markdown",
   "id": "57f31249-1dce-4605-9798-22befdc0cb10",
   "metadata": {},
   "source": [
    "### **end of POS_MSEC**\n",
    "-------------------------------------------------------------------------"
   ]
  },
  {
   "cell_type": "code",
   "execution_count": 22,
   "id": "1279fa4d-30fe-4848-9ad1-dd7ba403827f",
   "metadata": {},
   "outputs": [],
   "source": [
    "ms_diff_sec=[(i-40)/1000 for i in np.diff(ms)]"
   ]
  },
  {
   "cell_type": "code",
   "execution_count": 23,
   "id": "844d58ab-bf9e-48dd-973c-fca59c1d073f",
   "metadata": {},
   "outputs": [
    {
     "name": "stderr",
     "output_type": "stream",
     "text": [
      "IOPub data rate exceeded.\n",
      "The Jupyter server will temporarily stop sending output\n",
      "to the client in order to avoid crashing it.\n",
      "To change this limit, set the config variable\n",
      "`--ServerApp.iopub_data_rate_limit`.\n",
      "\n",
      "Current values:\n",
      "ServerApp.iopub_data_rate_limit=1000000.0 (bytes/sec)\n",
      "ServerApp.rate_limit_window=3.0 (secs)\n",
      "\n"
     ]
    }
   ],
   "source": [
    "for i in ms_diff_sec:\n",
    "    if i != 0:\n",
    "        print((i,ms_diff_sec))"
   ]
  },
  {
   "cell_type": "markdown",
   "id": "273f38ed-c94b-401f-adc5-fe56661c2bc5",
   "metadata": {},
   "source": [
    "# Path to FOLDERS"
   ]
  },
  {
   "cell_type": "code",
   "execution_count": 2,
   "id": "0b7e73ea-e2e7-4603-880d-8e8f081d6a4b",
   "metadata": {},
   "outputs": [],
   "source": [
    "#rats 672(L) & 674(R)\n",
    "address=\"/media/data-108/Videos/video_W672_W674/\"\n",
    "\n",
    "#get the names of the videos to string list\n",
    "video_list=os.listdir(address)"
   ]
  },
  {
   "cell_type": "code",
   "execution_count": 3,
   "id": "c397ea76-e194-46e5-b528-a2f1303131a6",
   "metadata": {},
   "outputs": [
    {
     "data": {
      "text/plain": [
       "['Basler_acA1300-60gmNIR__21471690__20211214_105314518.mp4',\n",
       " 'Basler_acA1300-60gmNIR__21471690__20211213_110203566.mp4',\n",
       " 'Basler_acA1300-60gmNIR__21471690__20211202_111118539.mp4',\n",
       " 'Basler_acA1300-60gmNIR__21471690__20211212_195613623.mp4',\n",
       " 'Basler_acA1300-60gmNIR__21471690__20211209_165825805.mp4',\n",
       " 'Basler_acA1300-60gmNIR__21471690__20211211_210237269.mp4',\n",
       " 'Basler_acA1300-60gmNIR__21471690__20211212_110035700.mp4',\n",
       " 'Basler_acA1300-60gmNIR__21471690__20211214_193424689.mp4',\n",
       " 'Basler_acA1300-60gmNIR__21471690__20211206_181800542.mp4',\n",
       " 'Basler_acA1300-60gmNIR__21471690__20211207_164245265.mp4',\n",
       " 'Basler_acA1300-60gmNIR__21471690__20211211_120808787.mp4',\n",
       " 'Basler_acA1300-60gmNIR__21471690__20211203_120234557.mp4',\n",
       " 'Basler_acA1300-60gmNIR__21471690__20211210_110230358.mp4',\n",
       " 'Basler_acA1300-60gmNIR__21471690__20211213_180838731.mp4',\n",
       " 'Basler_acA1300-60gmNIR__21471690__20211208_170349820.mp4',\n",
       " 'Basler_acA1300-60gmNIR__21471690__20211207_113623925.mp4',\n",
       " 'Basler_acA1300-60gmNIR__21471690__20211208_114342487.mp4',\n",
       " 'Basler_acA1300-60gmNIR__21471690__20211209_105136070.mp4']"
      ]
     },
     "execution_count": 3,
     "metadata": {},
     "output_type": "execute_result"
    }
   ],
   "source": [
    "video_list"
   ]
  },
  {
   "cell_type": "markdown",
   "id": "46af0576-9438-479c-99c2-78827e496d8f",
   "metadata": {},
   "source": [
    "# Inspect motion_detector() to personalize default parameters"
   ]
  },
  {
   "cell_type": "code",
   "execution_count": 3,
   "id": "0c51985e-9eec-4115-b738-2932c9c135ff",
   "metadata": {},
   "outputs": [
    {
     "name": "stdout",
     "output_type": "stream",
     "text": [
      "(path, scale_percent=40, area=20, delta_thresh=5, output_4csv='/home/domi/Documents/video_processing/CSV_data')\n"
     ]
    }
   ],
   "source": [
    "# import required modules\n",
    "import inspect\n",
    "  \n",
    "# use signature()\n",
    "print(inspect.signature(motion_detector))"
   ]
  },
  {
   "cell_type": "code",
   "execution_count": 4,
   "id": "1cd241f9-e979-4844-9219-207bf984a249",
   "metadata": {},
   "outputs": [
    {
     "name": "stdout",
     "output_type": "stream",
     "text": [
      "[INFO] elapsed time: 8147.26\n",
      "[INFO] approx. FPS: 95.09\n",
      "[INFO] elapsed time: 6421.26\n",
      "[INFO] approx. FPS: 98.22\n",
      "[INFO] elapsed time: 3166.26\n",
      "[INFO] approx. FPS: 99.02\n",
      "[INFO] elapsed time: 13158.06\n",
      "[INFO] approx. FPS: 100.33\n",
      "[INFO] elapsed time: 15741.81\n",
      "[INFO] approx. FPS: 101.21\n",
      "[INFO] elapsed time: 11684.44\n",
      "[INFO] approx. FPS: 105.44\n",
      "[INFO] elapsed time: 8192.79\n",
      "[INFO] approx. FPS: 97.42\n",
      "[INFO] elapsed time: 12964.49\n",
      "[INFO] approx. FPS: 97.17\n",
      "[INFO] elapsed time: 14632.51\n",
      "[INFO] approx. FPS: 96.64\n",
      "[INFO] elapsed time: 18058.87\n",
      "[INFO] approx. FPS: 93.84\n",
      "[INFO] elapsed time: 8234.07\n",
      "[INFO] approx. FPS: 95.48\n",
      "[INFO] elapsed time: 2788.97\n",
      "[INFO] approx. FPS: 90.00\n",
      "[INFO] elapsed time: 7090.25\n",
      "[INFO] approx. FPS: 92.76\n",
      "[INFO] elapsed time: 16183.80\n",
      "[INFO] approx. FPS: 91.55\n",
      "[INFO] elapsed time: 17230.28\n",
      "[INFO] approx. FPS: 91.49\n",
      "[INFO] elapsed time: 4820.42\n",
      "[INFO] approx. FPS: 91.66\n",
      "[INFO] elapsed time: 5081.61\n",
      "[INFO] approx. FPS: 93.15\n",
      "[INFO] elapsed time: 5799.45\n",
      "[INFO] approx. FPS: 93.00\n"
     ]
    }
   ],
   "source": [
    "for video in video_list:\n",
    "    motion_detector(path=os.path.join(address,video),\n",
    "                    delta_thresh=1, #get raw diff\n",
    "                    output_4csv=os.path.join(\"/home/domi/video_proc/CSV_data\",\n",
    "                                             address[-16:]))"
   ]
  },
  {
   "cell_type": "code",
   "execution_count": 21,
   "id": "c6f30f47-eaaf-4adf-8159-2c87e23d07a2",
   "metadata": {},
   "outputs": [],
   "source": [
    "os.chdir(\"/home/domi/video_proc/CSV_data/video_W672_W674/\")"
   ]
  },
  {
   "cell_type": "markdown",
   "id": "32712c03-314e-4e9b-b502-1dafd76bac16",
   "metadata": {},
   "source": [
    "https://fantashit.com/re-run-cmake-or-configure-script-in-function-cvshowimage/"
   ]
  },
  {
   "cell_type": "code",
   "execution_count": 31,
   "id": "dcab690e-9272-452c-adfa-6379e0d440c9",
   "metadata": {},
   "outputs": [],
   "source": [
    "csvs=os.listdir(\"/home/domi/video_proc/CSV_data/video_W672_W674/\")"
   ]
  },
  {
   "cell_type": "code",
   "execution_count": 34,
   "id": "1ab76bee-7609-4940-a06d-0f4f5ae72774",
   "metadata": {},
   "outputs": [
    {
     "data": {
      "text/plain": [
       "'acA1300-60gmNIR__21471690__20211213_180838731.csv'"
      ]
     },
     "execution_count": 34,
     "metadata": {},
     "output_type": "execute_result"
    }
   ],
   "source": [
    "csvs[0]"
   ]
  },
  {
   "cell_type": "code",
   "execution_count": null,
   "id": "ee875269-2381-4ee3-a26a-d67c00400ead",
   "metadata": {},
   "outputs": [],
   "source": [
    "df1 = pd.read_csv(csvs[0], sep='\\t', parse_dates=[\"timestamp\",\"duration\"],\n",
    "                 index_col=\"timestamp\")"
   ]
  },
  {
   "cell_type": "code",
   "execution_count": null,
   "id": "1411a5d9-6580-400d-98b4-60fdadd76392",
   "metadata": {},
   "outputs": [],
   "source": [
    "#for csv in csvs[0]:\n",
    "plot_mvm(csvs[0],\n",
    "        start={\"hours\": 0, \"minutes\": 1, \"seconds\": 0},\n",
    "         dt={\"hours\": 0, \"minutes\": 1, \"seconds\": 0},\n",
    "         ylim=5 * 1e6,\n",
    "         plot_all=True,\n",
    "        save=True) "
   ]
  },
  {
   "cell_type": "code",
   "execution_count": 36,
   "id": "3d44372b-efa7-4d22-93af-bef9779ca0e3",
   "metadata": {},
   "outputs": [],
   "source": [
    "first_vid = pd.read_csv(csvs[0],\n",
    "                            sep='\\t', index_col=\"timestamp\", parse_dates=[2])"
   ]
  },
  {
   "cell_type": "code",
   "execution_count": 38,
   "id": "b2d3794b-c4dd-4d4d-b191-e9dd3b002130",
   "metadata": {},
   "outputs": [
    {
     "ename": "NameError",
     "evalue": "name 'ylim' is not defined",
     "output_type": "error",
     "traceback": [
      "\u001b[0;31m---------------------------------------------------------------------------\u001b[0m",
      "\u001b[0;31mNameError\u001b[0m                                 Traceback (most recent call last)",
      "\u001b[0;32m/tmp/ipykernel_281767/2782471296.py\u001b[0m in \u001b[0;36m<module>\u001b[0;34m\u001b[0m\n\u001b[1;32m     10\u001b[0m \u001b[0;34m\u001b[0m\u001b[0m\n\u001b[1;32m     11\u001b[0m \u001b[0;32mfor\u001b[0m \u001b[0max\u001b[0m \u001b[0;32min\u001b[0m \u001b[0;34m[\u001b[0m\u001b[0max1\u001b[0m\u001b[0;34m,\u001b[0m \u001b[0max2\u001b[0m\u001b[0;34m]\u001b[0m\u001b[0;34m:\u001b[0m\u001b[0;34m\u001b[0m\u001b[0;34m\u001b[0m\u001b[0m\n\u001b[0;32m---> 12\u001b[0;31m         \u001b[0max\u001b[0m\u001b[0;34m.\u001b[0m\u001b[0mset_ylim\u001b[0m\u001b[0;34m(\u001b[0m\u001b[0;34m(\u001b[0m\u001b[0;36m0\u001b[0m\u001b[0;34m,\u001b[0m \u001b[0mylim\u001b[0m\u001b[0;34m)\u001b[0m\u001b[0;34m)\u001b[0m\u001b[0;34m\u001b[0m\u001b[0;34m\u001b[0m\u001b[0m\n\u001b[0m\u001b[1;32m     13\u001b[0m         \u001b[0max\u001b[0m\u001b[0;34m.\u001b[0m\u001b[0mset_title\u001b[0m\u001b[0;34m(\u001b[0m\u001b[0;34m\"movement (pixel change)\"\u001b[0m\u001b[0;34m,\u001b[0m \u001b[0mfontsize\u001b[0m\u001b[0;34m=\u001b[0m\u001b[0;36m20\u001b[0m\u001b[0;34m)\u001b[0m\u001b[0;34m\u001b[0m\u001b[0;34m\u001b[0m\u001b[0m\n\u001b[1;32m     14\u001b[0m         \u001b[0max\u001b[0m\u001b[0;34m.\u001b[0m\u001b[0mset_xlabel\u001b[0m\u001b[0;34m(\u001b[0m\u001b[0;34m\"time\"\u001b[0m\u001b[0;34m,\u001b[0m \u001b[0mfontsize\u001b[0m\u001b[0;34m=\u001b[0m\u001b[0;36m16\u001b[0m\u001b[0;34m)\u001b[0m\u001b[0;34m\u001b[0m\u001b[0;34m\u001b[0m\u001b[0m\n",
      "\u001b[0;31mNameError\u001b[0m: name 'ylim' is not defined"
     ]
    },
    {
     "data": {
      "image/png": "[encoded data removed]",
      "text/plain": [
       "<Figure size 1152x576 with 2 Axes>"
      ]
     },
     "metadata": {
      "needs_background": "light"
     },
     "output_type": "display_data"
    }
   ],
   "source": [
    "fig, (ax1, ax2) = plt.subplots(1, 2, figsize=(16, 8))\n",
    "    \n",
    "    \n",
    "ax1.plot(first_vid.index,\n",
    "     first_vid[\"mvm_rat1\"],\n",
    "     label=\"rat_1\")\n",
    "ax2.plot(first_vid.index,\n",
    "         first_vid[\"mvm_rat2\"],\n",
    "         label=\"rat_2\")\n",
    "\n",
    "for ax in [ax1, ax2]:\n",
    "        ax.set_ylim((0, ylim))\n",
    "        ax.set_title(\"movement (pixel change)\", fontsize=20)\n",
    "        ax.set_xlabel(\"time\", fontsize=16)\n",
    "        ax.set_ylabel(\"sum of pixel change\", fontsize=16)\n",
    "        ax.tick_params(axis='x', labelrotation=60, labelsize=14)\n",
    "        ax.xaxis.set_major_locator(plt.AutoLocator())\n",
    "        ax.legend()"
   ]
  },
  {
   "cell_type": "code",
   "execution_count": null,
   "id": "ead933b0-0303-4017-a7a7-50b5de70f039",
   "metadata": {},
   "outputs": [],
   "source": []
  }
 ],
 "metadata": {
  "kernelspec": {
   "display_name": "vidpenv",
   "language": "python",
   "name": "vidpenv"
  },
  "language_info": {
   "codemirror_mode": {
    "name": "ipython",
    "version": 3
   },
   "file_extension": ".py",
   "mimetype": "text/x-python",
   "name": "python",
   "nbconvert_exporter": "python",
   "pygments_lexer": "ipython3",
   "version": "3.7.11"
  }
 },
 "nbformat": 4,
 "nbformat_minor": 5
}

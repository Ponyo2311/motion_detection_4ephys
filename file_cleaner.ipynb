{
 "cells": [
  {
   "cell_type": "code",
   "execution_count": 1,
   "id": "a44ffbda-5511-468c-9ac5-b48dc2a5fec2",
   "metadata": {},
   "outputs": [],
   "source": [
    "import os\n",
    "import glob\n",
    "import re"
   ]
  },
  {
   "cell_type": "markdown",
   "id": "b5de1c10-ff83-4c72-8ecb-a7b2812175eb",
   "metadata": {},
   "source": [
    "plan:\n",
    "- list everything in data-116 & data-117\n",
    "- get list of dates for each name\n",
    "- extract path to videos corresponding to the date \n",
    "\n",
    "- df.columns:\n",
    "    - NAME\n",
    "    - DATE\n",
    "    - PATH2VIDEO\n",
    "    - PATH2DAT\n",
    "    - ask marco what is lfp\n",
    "    - the folder where you take channel order from"
   ]
  },
  {
   "cell_type": "code",
   "execution_count": 2,
   "id": "612e4f8d-4921-4428-888b-0cdef951d04b",
   "metadata": {},
   "outputs": [],
   "source": [
    "fileTree={\"name\":[\"Dax\",\"Odo\",\"Timon\",\"Pumba\"]}"
   ]
  },
  {
   "cell_type": "code",
   "execution_count": 3,
   "id": "96335b2f-cecd-4c8b-85bd-126488289d92",
   "metadata": {},
   "outputs": [
    {
     "data": {
      "text/plain": [
       "{'name': ['Dax', 'Odo', 'Timon', 'Pumba']}"
      ]
     },
     "execution_count": 3,
     "metadata": {},
     "output_type": "execute_result"
    }
   ],
   "source": [
    "fileTree"
   ]
  },
  {
   "cell_type": "code",
   "execution_count": 4,
   "id": "b92d7b18-c860-40f6-adec-960752a9fb40",
   "metadata": {},
   "outputs": [],
   "source": [
    "fileTree[\"data_number\"]=[\"data-116\",\"data-117\"]"
   ]
  },
  {
   "cell_type": "code",
   "execution_count": 5,
   "id": "06c9f5fa-72a4-4947-b23b-6c5716a59de0",
   "metadata": {},
   "outputs": [
    {
     "name": "stdout",
     "output_type": "stream",
     "text": [
      "['/media/data-116/Dax/1.Data/2021-05-25_12-32-00']\n",
      "['/media/data-116/Odo/1.Data/2021-06-01_11-36-30', '/media/data-116/Odo/1.Data/2021-06-03_10-30-45', '/media/data-116/Odo/1.Data/2021-06-02_11-35-31', '/media/data-116/Odo/1.Data/2021-05-31_15-41-39', '/media/data-116/Odo/1.Data/2021-06-01_10-29-22']\n",
      "[]\n",
      "['/media/data-117/Pumba/1.Data/2021-03-17_17-55-52', '/media/data-117/Pumba/1.Data/2021-03-15_19-36-15', '/media/data-117/Pumba/1.Data/2021-03-14_10-16-28', '/media/data-117/Pumba/1.Data/2021-03-18_01-55-06', '/media/data-117/Pumba/1.Data/2021-03-17_13-37-12', '/media/data-117/Pumba/1.Data/2021-03-17_02-20-44', '/media/data-117/Pumba/1.Data/2021-03-16_21-36-41', '/media/data-117/Pumba/1.Data/2021-03-17_21-51-02', '/media/data-117/Pumba/1.Data/2021-03-14_13-30-34', '/media/data-117/Pumba/1.Data/2021-03-16_10-51-08', '/media/data-117/Pumba/1.Data/2021-03-12_08-50-21', '/media/data-117/Pumba/1.Data/2021-03-18_09-04-28', '/media/data-117/Pumba/1.Data/2021-03-16_16-23-58', '/media/data-117/Pumba/1.Data/2021-03-16_00-09-03', '/media/data-117/Pumba/1.Data/2021-03-17_00-45-43', '/media/data-117/Pumba/1.Data/2021-03-15_14-59-23', '/media/data-117/Pumba/1.Data/2021-03-14_16-49-32']\n"
     ]
    }
   ],
   "source": [
    "#try whether the path exist\n",
    "sessions={}\n",
    "\n",
    "for i in fileTree[\"data_number\"]:\n",
    "    for j in fileTree[\"name\"]:\n",
    "        path=os.path.join(\"/media/\",i,j)\n",
    "        if os.path.exists(path):\n",
    "            sessions[j]={\"data_nb\":i,\n",
    "                         \"rat_name\":j,\n",
    "                         \"dates_recording\":os.listdir(glob.glob(path+\"/*Data/\")[0]),\n",
    "                         \"setting_xml\":glob.glob(path+'/*Data/**/settings.xml*', recursive=True),\n",
    "                         \"dates_video\":[f for f in glob.glob(path+\"/*Videos/**\", \n",
    "                                                 recursive=True) if os.path.isfile(f)]}\n",
    "            \n",
    "            print([file for file in glob.glob(path+\"/1.Data/*\",recursive=False)])"
   ]
  },
  {
   "cell_type": "code",
   "execution_count": null,
   "id": "6b5af9a8-d7d9-4355-9ecd-616bd651c020",
   "metadata": {},
   "outputs": [],
   "source": []
  },
  {
   "cell_type": "code",
   "execution_count": 19,
   "id": "a4ee50c2-1864-4ef0-8bba-efc9de7cdbb6",
   "metadata": {},
   "outputs": [
    {
     "name": "stdout",
     "output_type": "stream",
     "text": [
      "/media/data-116/Dax\n",
      "/media/data-116/Odo\n",
      "/media/data-116/Timon\n",
      "/media/data-116/Pumba\n",
      "/media/data-117/Dax\n",
      "/media/data-117/Odo\n",
      "/media/data-117/Timon\n",
      "/media/data-117/Pumba\n"
     ]
    }
   ],
   "source": [
    "for i in fileTree[\"data_number\"]:\n",
    "    for j in fileTree[\"name\"]:\n",
    "        print(os.path.join(\"/media/\",i,j))"
   ]
  },
  {
   "cell_type": "code",
   "execution_count": null,
   "id": "a8866e23-43ed-48ea-8e2d-60913d54f447",
   "metadata": {},
   "outputs": [],
   "source": [
    "# Using \"NAME\" + \"1.Data\" or \"2.Videos\" pattern\n",
    "existing_paths=[]\n",
    "\n",
    "for name in fileTree[\"name\"]\n",
    "    for file in glob.glob('/home/geeks/Desktop/gfg/*[0-9].*'):\n",
    "        print(file)"
   ]
  },
  {
   "cell_type": "markdown",
   "id": "d911cf06-c81c-4c2b-b5ed-c5ca4a57868c",
   "metadata": {},
   "source": [
    "# Find out whether there are SYNC channels"
   ]
  },
  {
   "cell_type": "code",
   "execution_count": 80,
   "id": "c854cae0-702d-42e7-968a-973c6eccd2d8",
   "metadata": {},
   "outputs": [],
   "source": [
    "synchronized=[]\n",
    "sync_videos=[]\n",
    "\n",
    "for name in fileTree[\"name\"]:\n",
    "    for i in range(len(sessions[name][\"setting_xml\"])):\n",
    "        with open(sessions[name][\"setting_xml\"][i], 'r') as f:\n",
    "            data = f.read()\n",
    "            if len(re.findall(\"SYNC\",data))>0:\n",
    "                synchronized.append(sessions[name][\"setting_xml\"][i])\n",
    "                sync_videos.append(sessions[name][\"setting_xml\"][i])\n",
    "            f.close()"
   ]
  },
  {
   "cell_type": "code",
   "execution_count": 82,
   "id": "d5ba20da-020a-4ddf-901c-dcdde8729f16",
   "metadata": {},
   "outputs": [
    {
     "data": {
      "text/plain": [
       "['/media/data-116/Dax/1.Data/2021-05-25_12-32-00/Record Node 102/settings.xml',\n",
       " '/media/data-116/Odo/1.Data/2021-06-02_11-35-31/Record Node 101/settings.xml',\n",
       " '/media/data-116/Odo/1.Data/2021-05-31_15-41-39/Record Node 101/settings.xml']"
      ]
     },
     "execution_count": 82,
     "metadata": {},
     "output_type": "execute_result"
    }
   ],
   "source": [
    "synchronized"
   ]
  },
  {
   "cell_type": "code",
   "execution_count": 75,
   "id": "c2f84053-75e2-4130-b6f0-dbc663c1c781",
   "metadata": {
    "scrolled": true,
    "tags": []
   },
   "outputs": [
    {
     "name": "stdout",
     "output_type": "stream",
     "text": [
      "[]\n",
      "[]\n",
      "[]\n",
      "[]\n",
      "[]\n",
      "[]\n",
      "[]\n",
      "[]\n",
      "[]\n",
      "[]\n",
      "[]\n",
      "[]\n",
      "[]\n",
      "[]\n",
      "[]\n",
      "[]\n",
      "[]\n",
      "[]\n"
     ]
    }
   ],
   "source": [
    "for i in range(len(sessions[\"Timon\"][\"setting_xml\"])):\n",
    "    with open(sessions[\"Timon\"][\"setting_xml\"][i], 'r') as f:\n",
    "        data = f.read()\n",
    "        print(re.findall(\"SYNC\",data))\n",
    "        f.close()"
   ]
  },
  {
   "cell_type": "code",
   "execution_count": 78,
   "id": "d850dc17-7697-4da2-b939-cf88e91b8d3f",
   "metadata": {},
   "outputs": [
    {
     "name": "stdout",
     "output_type": "stream",
     "text": [
      "['SYNC', 'SYNC']\n"
     ]
    }
   ],
   "source": [
    "for i in range(len(sessions[\"Dax\"][\"setting_xml\"])):\n",
    "    with open(sessions[\"Dax\"][\"setting_xml\"][i], 'r') as f:\n",
    "        data = f.read()\n",
    "        print(re.findall(\"SYNC\",data))\n",
    "        f.close()"
   ]
  },
  {
   "cell_type": "code",
   "execution_count": 79,
   "id": "8c7c7cb3-ba25-4e3b-8dd7-f702b66ae9ae",
   "metadata": {
    "scrolled": true,
    "tags": []
   },
   "outputs": [
    {
     "name": "stdout",
     "output_type": "stream",
     "text": [
      "[]\n",
      "[]\n",
      "[]\n",
      "[]\n",
      "[]\n",
      "[]\n",
      "[]\n",
      "[]\n",
      "[]\n",
      "[]\n",
      "[]\n",
      "[]\n",
      "[]\n",
      "[]\n",
      "[]\n",
      "[]\n",
      "[]\n"
     ]
    }
   ],
   "source": [
    "for i in range(len(sessions[\"Pumba\"][\"setting_xml\"])):\n",
    "    with open(sessions[\"Pumba\"][\"setting_xml\"][i], 'r') as f:\n",
    "        data = f.read()\n",
    "        print(re.findall(\"SYNC\",data))\n",
    "        f.close()"
   ]
  },
  {
   "cell_type": "code",
   "execution_count": 72,
   "id": "da3aa4f2-6131-4887-9bdc-f2bebf1374bd",
   "metadata": {},
   "outputs": [
    {
     "data": {
      "text/plain": [
       "'<?xml version=\"1.0\" encoding=\"UTF-8\"?>\\n\\n<SETTINGS>\\n  <INFO>\\n    <VERSION>0.5.3.1</VERSION>\\n    <PLUG'"
      ]
     },
     "execution_count": 72,
     "metadata": {},
     "output_type": "execute_result"
    }
   ],
   "source": [
    "data[:100]"
   ]
  },
  {
   "cell_type": "code",
   "execution_count": 73,
   "id": "5194997c-b0c4-4666-9104-d7ce926c062e",
   "metadata": {},
   "outputs": [
    {
     "data": {
      "text/plain": [
       "['PLUG', 'PLUG']"
      ]
     },
     "execution_count": 73,
     "metadata": {},
     "output_type": "execute_result"
    }
   ],
   "source": [
    "re.findall(\"PLUG\",data)"
   ]
  },
  {
   "cell_type": "markdown",
   "id": "2713e95f-67c3-4e05-957c-193f430a1f5c",
   "metadata": {},
   "source": [
    "# Processing PUMBA videos"
   ]
  },
  {
   "cell_type": "code",
   "execution_count": 6,
   "id": "d752d0ae-fcbe-4129-afea-a4ea83e0ec2b",
   "metadata": {},
   "outputs": [],
   "source": [
    "from video_process_pck.motion_detector import *\n",
    "from video_process_pck.plot_mvm import plot_mvm\n",
    "import os\n",
    "import numpy as np\n",
    "import matplotlib.pyplot as plt"
   ]
  },
  {
   "cell_type": "markdown",
   "id": "28b1c593-2d65-4033-b34a-68a202ffedaf",
   "metadata": {},
   "source": [
    "## Renaming videos - removing space from name"
   ]
  },
  {
   "cell_type": "code",
   "execution_count": 9,
   "id": "e3fbf403-7f0f-4830-bb86-79ba602c0019",
   "metadata": {},
   "outputs": [],
   "source": [
    "pumba_videos=[vid.replace(\" \",\"\") for vid in sessions[\"Pumba\"][\"dates_video\"]]"
   ]
  },
  {
   "cell_type": "code",
   "execution_count": 10,
   "id": "9f810a64-9343-4e8d-9087-3ea32945366a",
   "metadata": {},
   "outputs": [],
   "source": [
    "pumba_videos=[vid.replace(\"_\",\"\") for vid in pumba_videos]"
   ]
  },
  {
   "cell_type": "code",
   "execution_count": 11,
   "id": "cc04ecae-2c6c-4864-a378-ca42e6fdec0c",
   "metadata": {},
   "outputs": [],
   "source": [
    "pumba_videos=[vid.replace(\".\",\"\") for vid in pumba_videos]"
   ]
  },
  {
   "cell_type": "code",
   "execution_count": 13,
   "id": "a712065d-d1eb-4566-82ab-dd6a59ac75b1",
   "metadata": {},
   "outputs": [],
   "source": [
    "pumba_videos=[vid.replace(\"-\",\"\") for vid in pumba_videos]"
   ]
  },
  {
   "cell_type": "code",
   "execution_count": 14,
   "id": "c6055f3b-8a13-46c7-bbe0-bbe82b0c215e",
   "metadata": {
    "scrolled": true,
    "tags": []
   },
   "outputs": [
    {
     "data": {
      "text/plain": [
       "['/media/data117/Pumba/2Videos/WIN20210312085022Promp4',\n",
       " '/media/data117/Pumba/2Videos/WIN20210314101629Promp4',\n",
       " '/media/data117/Pumba/2Videos/WIN20210314133034Promp4',\n",
       " '/media/data117/Pumba/2Videos/WIN20210314164932Promp4',\n",
       " '/media/data117/Pumba/2Videos/Anycam/20210318133638mp4',\n",
       " '/media/data117/Pumba/2Videos/Anycam/20210318023637mp4',\n",
       " '/media/data117/Pumba/2Videos/Anycam/20210317173637mp4',\n",
       " '/media/data117/Pumba/2Videos/Anycam/20210318053637mp4',\n",
       " '/media/data117/Pumba/2Videos/Anycam/20210317163637mp4',\n",
       " '/media/data117/Pumba/2Videos/Anycam/20210317012016mp4',\n",
       " '/media/data117/Pumba/2Videos/Anycam/20210318073637mp4',\n",
       " '/media/data117/Pumba/2Videos/Anycam/20210318013637mp4',\n",
       " '/media/data117/Pumba/2Videos/Anycam/20210317193637mp4',\n",
       " '/media/data117/Pumba/2Videos/Anycam/20210317002016mp4',\n",
       " '/media/data117/Pumba/2Videos/Anycam/20210318113637mp4',\n",
       " '/media/data117/Pumba/2Videos/Anycam/20210317032016mp4',\n",
       " '/media/data117/Pumba/2Videos/Anycam/20210317223637mp4',\n",
       " '/media/data117/Pumba/2Videos/Anycam/20210316172016mp4',\n",
       " '/media/data117/Pumba/2Videos/Anycam/20210316222016mp4',\n",
       " '/media/data117/Pumba/2Videos/Anycam/20210317203637mp4',\n",
       " '/media/data117/Pumba/2Videos/Anycam/20210316135049mp4',\n",
       " '/media/data117/Pumba/2Videos/Anycam/20210318033637mp4',\n",
       " '/media/data117/Pumba/2Videos/Anycam/20210317153637mp4',\n",
       " '/media/data117/Pumba/2Videos/Anycam/20210318063637mp4',\n",
       " '/media/data117/Pumba/2Videos/Anycam/20210316212016mp4',\n",
       " '/media/data117/Pumba/2Videos/Anycam/20210316202016mp4',\n",
       " '/media/data117/Pumba/2Videos/Anycam/20210316232016mp4',\n",
       " '/media/data117/Pumba/2Videos/Anycam/20210316105049mp4',\n",
       " '/media/data117/Pumba/2Videos/Anycam/20210318123637mp4',\n",
       " '/media/data117/Pumba/2Videos/Anycam/20210316155050mp4',\n",
       " '/media/data117/Pumba/2Videos/Anycam/20210318083637mp4',\n",
       " '/media/data117/Pumba/2Videos/Anycam/20210318093637mp4',\n",
       " '/media/data117/Pumba/2Videos/Anycam/20210317143637mp4',\n",
       " '/media/data117/Pumba/2Videos/Anycam/20210316125049mp4',\n",
       " '/media/data117/Pumba/2Videos/Anycam/20210317233637mp4',\n",
       " '/media/data117/Pumba/2Videos/Anycam/20210317183637mp4',\n",
       " '/media/data117/Pumba/2Videos/Anycam/20210317213637mp4',\n",
       " '/media/data117/Pumba/2Videos/Anycam/20210318003637mp4',\n",
       " '/media/data117/Pumba/2Videos/Anycam/20210316182016mp4',\n",
       " '/media/data117/Pumba/2Videos/Anycam/20210318140852mp4',\n",
       " '/media/data117/Pumba/2Videos/Anycam/20210316145050mp4',\n",
       " '/media/data117/Pumba/2Videos/Anycam/20210317133636mp4',\n",
       " '/media/data117/Pumba/2Videos/Anycam/20210316115049mp4',\n",
       " '/media/data117/Pumba/2Videos/Anycam/20210318043637mp4',\n",
       " '/media/data117/Pumba/2Videos/Anycam/20210317022016mp4',\n",
       " '/media/data117/Pumba/2Videos/Anycam/20210318103637mp4',\n",
       " '/media/data117/Pumba/2Videos/Anycam/20210316162016mp4',\n",
       " '/media/data117/Pumba/2Videos/Anycam/20210316192016mp4']"
      ]
     },
     "execution_count": 14,
     "metadata": {},
     "output_type": "execute_result"
    }
   ],
   "source": [
    "pumba_videos"
   ]
  },
  {
   "cell_type": "code",
   "execution_count": 38,
   "id": "8e5e47b7-7bb3-4fb0-bfba-ec356395d8d7",
   "metadata": {},
   "outputs": [],
   "source": [
    "found = re.search('(2021*.+?)(?!.*\\d)', pumba_videos[0]).group(1)"
   ]
  },
  {
   "cell_type": "code",
   "execution_count": 39,
   "id": "eca878f8-b55a-40d3-934c-7dfbe5c7502c",
   "metadata": {},
   "outputs": [
    {
     "data": {
      "text/plain": [
       "'20210312085022Promp4'"
      ]
     },
     "execution_count": 39,
     "metadata": {},
     "output_type": "execute_result"
    }
   ],
   "source": [
    "found"
   ]
  },
  {
   "cell_type": "code",
   "execution_count": 40,
   "id": "47680b0e-92e2-4312-a5ad-c5e6b26ee4ce",
   "metadata": {},
   "outputs": [],
   "source": [
    "found = re.findall('[0-9]+', found)"
   ]
  },
  {
   "cell_type": "code",
   "execution_count": 42,
   "id": "ef150a1c-e788-486a-9fbd-6ac1a3b3d1e8",
   "metadata": {},
   "outputs": [
    {
     "data": {
      "text/plain": [
       "'20210312085022'"
      ]
     },
     "execution_count": 42,
     "metadata": {},
     "output_type": "execute_result"
    }
   ],
   "source": [
    "found[0]"
   ]
  },
  {
   "cell_type": "code",
   "execution_count": null,
   "id": "bc8a6f6d-7796-4a3d-bd0a-62660d00ba4d",
   "metadata": {},
   "outputs": [],
   "source": [
    "def csv_name_creator_maeva(path, output_folder=\"/home/domi/Documents/video_processing/CSV_data\"):\n",
    "    \"\"\"path: folder+ file_name of the video\n",
    "    output_folder: where all the csv files should be stored\n",
    "    return:- a string path as input for pandas 'to_csv()' fun\n",
    "           - timestamp of the exact date&time of the beginning of the recording\"\"\"\n",
    "\n",
    "    # extract date of the video\n",
    "    found = re.search('(2021*.+?)(?!.*\\d)', path).group(1)\n",
    "    found = re.findall('[0-9]+', found)[0]\n",
    "\n",
    "    #date = re.search('__[0-9]+__(.+?)[0-9]{3}.mp4', path).group(1)\n",
    "    \n",
    "    #millisec = int(re.findall('(\\d{3})(?!.*\\d)', found)[0])\n",
    "\n",
    "    # check whether the folder where you want to save it in exist, if not create it\n",
    "    if not os.path.isdir(output_folder):\n",
    "        os.mkdir(output_folder)\n",
    "\n",
    "    # new path\n",
    "    new_path = os.path.join(output_folder, found + \".csv\")\n",
    "\n",
    "    # Date-time beginning of timestamp\n",
    "    # first_date=pd.to_datetime(''.join(re.findall('[0-9]+', date)))\n",
    "    first_date = ''.join(re.findall('[0-9]+', date))\n",
    "    first_stamp = pd.Timestamp(first_date) + timedelta(milliseconds=millisec)\n",
    "\n",
    "    return new_path, first_stamp"
   ]
  },
  {
   "cell_type": "code",
   "execution_count": null,
   "id": "ae01241e-fb88-47c7-bd6a-bd524e802cc1",
   "metadata": {},
   "outputs": [],
   "source": [
    "for \n",
    "motion_detector(path, scale_percent=40, area=20, delta_thresh=5,\n",
    "                    output_4csv=\"/home/domi/Documents/video_processing/CSV_data\"):"
   ]
  },
  {
   "cell_type": "markdown",
   "id": "9787d265-0c3e-42c9-965c-fd3652c01eec",
   "metadata": {},
   "source": [
    "# Creating SYNC file for maeva's rats"
   ]
  },
  {
   "cell_type": "markdown",
   "id": "49ea039a-a475-4953-ac59-543e619f2ff0",
   "metadata": {},
   "source": [
    "### **1) listing files of interest**"
   ]
  },
  {
   "cell_type": "code",
   "execution_count": 8,
   "id": "9557dc0d-e887-46ca-8795-e72880077859",
   "metadata": {},
   "outputs": [],
   "source": [
    "sessionsSYNC={}\n",
    "\n",
    "for i in fileTree[\"data_number\"]:\n",
    "    for j in fileTree[\"name\"]:\n",
    "        path=os.path.join(\"/media/\",i,j)\n",
    "        if os.path.exists(path):\n",
    "            sessionsSYNC[j]={\"data_nb\":i,\n",
    "                         \"rat_name\":j,\n",
    "                         \"dates_recording\":os.listdir(glob.glob(path+\"/*Data/\")[0]),\n",
    "                         \"setting_xml\":glob.glob(path+'/*Data/**/settings.xml*', recursive=True),\n",
    "                         \"dates_video\":[f for f in glob.glob(path+\"/*Videos/**\", \n",
    "                                                 recursive=True) if os.path.isfile(f)],\n",
    "                            \"tmstp_ttl_2\":[f for f in glob.glob(path+\"/**/TTL_2/timestamp*\", \n",
    "                                                 recursive=True) if os.path.isfile(f)],\n",
    "                             \"tmstp_ttl_4\":[f for f in glob.glob(path+\"/**/TTL_4/timestamp*\", \n",
    "                                                 recursive=True) if os.path.isfile(f)],\n",
    "                            \"channelStates_ttl_2\":[f for f in glob.glob(path+\"/**/TTL_2/channel_state*\", \n",
    "                                                 recursive=True) if os.path.isfile(f)],\n",
    "                             \"channelStates_ttl_4\":[f for f in glob.glob(path+\"/**/TTL_4/channel_state*\", \n",
    "                                                 recursive=True) if os.path.isfile(f)],\n",
    "                            \"tmstp_lfp_1\":[f for f in glob.glob(path+\"/**/continuous/Neuropix-PXI-100.1/timestamp*\", # (\\d+)(?!.*\\d)\n",
    "                                                 recursive=True) if os.path.isfile(f)],\n",
    "                            \"tmstp_lfp_3\":[f for f in glob.glob(path+\"/**/continuous/Neuropix-PXI-100.3/timestamp*\", # (\\d+)(?!.*\\d)\n",
    "                                                 recursive=True) if os.path.isfile(f)]}\n",
    "            \n",
    "            #print([file for file in glob.glob(path+\"/1.Data/*\",recursive=False)])"
   ]
  },
  {
   "cell_type": "code",
   "execution_count": 27,
   "id": "716b5514-7013-4e20-a32e-7c7b1343b903",
   "metadata": {},
   "outputs": [],
   "source": [
    "sessionsSYNC={}\n",
    "\n",
    "for i in fileTree[\"data_number\"]:\n",
    "    for j in fileTree[\"name\"]:\n",
    "        path=os.path.join(\"/media/\",i,j)\n",
    "        if os.path.exists(path):\n",
    "            sessionsSYNC[j]={\"data_nb\":i,\n",
    "                         \"rat_name\":j,\n",
    "                         \"dates_recording\":os.listdir(glob.glob(path+\"/*Data/\")[0]),\n",
    "                         \"setting_xml\":glob.glob(path+'/*Data/**/settings.xml*', recursive=True),\n",
    "                         \"dates_video\":[f for f in glob.glob(path+\"/*Videos/**\", \n",
    "                                                 recursive=True) if os.path.isfile(f)],\n",
    "                            \"tmstp_ttl\":[f for f in glob.glob(path+\"/**/TTL_[2,4]/timestamp*\", \n",
    "                                                 recursive=True) if os.path.isfile(f)],\n",
    "                            # \"tmstp_ttl_4\":[f for f in glob.glob(path+\"/**/TTL_4/timestamp*\", \n",
    "                            #                     recursive=True) if os.path.isfile(f)],\n",
    "                            \"channelStates_ttl\":[f for f in glob.glob(path+\"/**/TTL_[2,4]/channel_state*\", \n",
    "                                                 recursive=True) if os.path.isfile(f)],\n",
    "                             #\"channelStates_ttl_4\":[f for f in glob.glob(path+\"/**/TTL_4/channel_state*\", \n",
    "                             #                    recursive=True) if os.path.isfile(f)],\n",
    "                            \"tmstp_lfp\":[f for f in glob.glob(path+\"/**/continuous/Neuropix-PXI-100.[1,3]/timestamp*\", # (\\d+)(?!.*\\d)\n",
    "                                                 recursive=True) if os.path.isfile(f)]}\n",
    "                            #\"tmstp_lfp_3\":[f for f in glob.glob(path+\"/**/continuous/Neuropix-PXI-100.3/timestamp*\", # (\\d+)(?!.*\\d)\n",
    "                            #                     recursive=True) if os.path.isfile(f)]}\n",
    "            \n",
    "            #print([file for file in glob.glob(path+\"/1.Data/*\",recursive=False)])"
   ]
  },
  {
   "cell_type": "markdown",
   "id": "3be371c7-7c36-43fb-95e7-81df852fc0d4",
   "metadata": {},
   "source": [
    "### **2) grouping files by rat & DATE & sessios**\n",
    "\n",
    "TODO: devide 2 vs 4 and 1 vs 3......!!!!!!!!!!!!!!!!!"
   ]
  },
  {
   "cell_type": "code",
   "execution_count": 28,
   "id": "f9158159-6b26-49dd-8a9a-8962deba4362",
   "metadata": {
    "scrolled": true,
    "tags": []
   },
   "outputs": [],
   "source": [
    "#group by...\n",
    "groups=[]\n",
    "for animal in sessionsSYNC.keys():\n",
    "    for tmstp in sessionsSYNC[animal][\"tmstp_ttl\"]:\n",
    "        g=[tmstp]\n",
    "        match=re.search(\"2021.(\\d+).(\\d+).(\\d+).(\\d+).(\\d+)\", tmstp)\n",
    "        newSearch=match.group()\n",
    "        for i in range(len(sessionsSYNC[animal][\"channelStates_ttl\"])):\n",
    "            if re.search(newSearch, sessionsSYNC[animal][\"channelStates_ttl\"][i]):\n",
    "                g.append(sessionsSYNC[animal][\"channelStates_ttl\"][i])\n",
    "        for i in range(len(sessionsSYNC[animal][\"tmstp_lfp\"])):\n",
    "            if re.search(newSearch, sessionsSYNC[animal][\"tmstp_lfp\"][i]):\n",
    "                g.append(sessionsSYNC[animal][\"tmstp_lfp\"][i])\n",
    "        groups.append(g)\n",
    "    \n",
    "    #Sessions ttl_4 don't have corresponding lfp... \n",
    "   # for tmstp in sessionsSYNC[animal][\"tmstp_ttl_4\"]:\n",
    "   #     g=[tmstp]\n",
    "   #     match=re.search(\"2021.(\\d+).(\\d+).(\\d+).(\\d+).(\\d+)\", tmstp)\n",
    "   #     newSearch=match.group()\n",
    "   #     for i in range(len(sessionsSYNC[animal][\"channelStates_ttl_4\"])):\n",
    "   #         if re.search(newSearch, sessionsSYNC[animal][\"channelStates_ttl_4\"][i]):\n",
    "   #             g.append(sessionsSYNC[animal][\"channelStates_ttl_4\"][i])\n",
    "   #     for i in range(len(sessionsSYNC[animal][\"tmstp_lfp_3\"])):\n",
    "   #         if re.search(newSearch, sessionsSYNC[animal][\"tmstp_lfp_3\"][i]):\n",
    "   #             g.append(sessionsSYNC[animal][\"tmstp_lfp_3\"][i])\n",
    "   #     groups.append(g)\n",
    "#for i in groups :......................................59 groups\n",
    "#    print(str(i)+\"\\n\")"
   ]
  },
  {
   "cell_type": "code",
   "execution_count": 14,
   "id": "ae5077fb-2a5c-4ce3-8cf7-a6d737452d70",
   "metadata": {},
   "outputs": [],
   "source": [
    "#Drop groups that don't have all three files.......... 41 groups\n",
    "groups_whole=[g for g in groups if len(g)==3]"
   ]
  },
  {
   "cell_type": "markdown",
   "id": "b8cb0ae0-8ea8-442d-af87-91c5d36b4f5e",
   "metadata": {},
   "source": [
    "### **3) process (a.k.a create sync file)**"
   ]
  },
  {
   "cell_type": "code",
   "execution_count": 44,
   "id": "c7cce7e5-dcf8-43df-a88c-1de10ee41b3b",
   "metadata": {},
   "outputs": [
    {
     "data": {
      "text/plain": [
       "'/media/data-116/Timon/1. Data/2021-03-16_21-36-41/Record Node 101/experiment1/recording1/events/Neuropix-PXI-100.1/TTL_2/timestamps.npy'"
      ]
     },
     "execution_count": 44,
     "metadata": {},
     "output_type": "execute_result"
    }
   ],
   "source": [
    "nn6[0]"
   ]
  },
  {
   "cell_type": "code",
   "execution_count": 18,
   "id": "b78ad60b-1634-4830-af25-389e7c553657",
   "metadata": {},
   "outputs": [
    {
     "name": "stdout",
     "output_type": "stream",
     "text": [
      "[25870 25970 26070 26170 26270 26370 26470 26570 26670 26770 26870 26970\n",
      " 27070 27170 27270 27370 27470 27570 27670 27770]\n",
      "[26033 26133 26233 26333 26433 26533 26633 26733 26833 26933 27033 27133\n",
      " 27233 27333 27433 27533 27633 27733 27833 27933]\n",
      "[13134 13234 13334 13434 13534 13634 13734 13834 13934 14034 14134 14234\n",
      " 14334 14434 14534 14634 14734 14834 14934 15034]\n",
      "[20171 20271 20371 20471 20571 20671 20771 20871 20971 21071 21171 21271\n",
      " 21371 21471 21571 21671 21771 21871 21971 22071]\n",
      "[38259 38359 38459 38559 38659 38759 38859 38959 39059 39159 39259 39359\n",
      " 39459 39559 39659 39759 39859 39959 40059 40159]\n",
      "[26130 26230 26330 26430 26530 26630 26730 26830 26930 27030 27130 27230\n",
      " 27330 27430 27530 27631 27731 27831 27931 28031]\n",
      "[]\n",
      "[]\n",
      "[]\n",
      "[]\n",
      "[]\n",
      "[]\n",
      "[]\n"
     ]
    },
    {
     "ename": "ValueError",
     "evalue": "cannot reshape array of size 11975692 into shape (12014614,)",
     "output_type": "error",
     "traceback": [
      "\u001b[0;31m---------------------------------------------------------------------------\u001b[0m",
      "\u001b[0;31mValueError\u001b[0m                                Traceback (most recent call last)",
      "\u001b[0;32m/tmp/ipykernel_58491/1497165353.py\u001b[0m in \u001b[0;36m<module>\u001b[0;34m\u001b[0m\n\u001b[1;32m      3\u001b[0m     \u001b[0mtimestamps_events\u001b[0m\u001b[0;34m=\u001b[0m\u001b[0mnp\u001b[0m\u001b[0;34m.\u001b[0m\u001b[0mload\u001b[0m\u001b[0;34m(\u001b[0m\u001b[0mg\u001b[0m\u001b[0;34m[\u001b[0m\u001b[0;36m0\u001b[0m\u001b[0;34m]\u001b[0m\u001b[0;34m)\u001b[0m\u001b[0;34m\u001b[0m\u001b[0;34m\u001b[0m\u001b[0m\n\u001b[1;32m      4\u001b[0m     \u001b[0mchannel_states\u001b[0m\u001b[0;34m=\u001b[0m\u001b[0mnp\u001b[0m\u001b[0;34m.\u001b[0m\u001b[0mload\u001b[0m\u001b[0;34m(\u001b[0m\u001b[0mg\u001b[0m\u001b[0;34m[\u001b[0m\u001b[0;36m1\u001b[0m\u001b[0;34m]\u001b[0m\u001b[0;34m)\u001b[0m\u001b[0;34m\u001b[0m\u001b[0;34m\u001b[0m\u001b[0m\n\u001b[0;32m----> 5\u001b[0;31m     \u001b[0mtimestamps_lfp\u001b[0m\u001b[0;34m=\u001b[0m\u001b[0mnp\u001b[0m\u001b[0;34m.\u001b[0m\u001b[0mload\u001b[0m\u001b[0;34m(\u001b[0m\u001b[0mg\u001b[0m\u001b[0;34m[\u001b[0m\u001b[0;36m2\u001b[0m\u001b[0;34m]\u001b[0m\u001b[0;34m)\u001b[0m\u001b[0;34m\u001b[0m\u001b[0;34m\u001b[0m\u001b[0m\n\u001b[0m\u001b[1;32m      6\u001b[0m \u001b[0;34m\u001b[0m\u001b[0m\n\u001b[1;32m      7\u001b[0m     \u001b[0;31m#print(timestamps_events[channel_states == 1] - timestamps_lfp[0] -1)\u001b[0m\u001b[0;34m\u001b[0m\u001b[0;34m\u001b[0m\u001b[0;34m\u001b[0m\u001b[0m\n",
      "\u001b[0;32m/home/programs/python/anaconda3/envs/vidpenv/lib/python3.7/site-packages/numpy/lib/npyio.py\u001b[0m in \u001b[0;36mload\u001b[0;34m(file, mmap_mode, allow_pickle, fix_imports, encoding)\u001b[0m\n\u001b[1;32m    439\u001b[0m             \u001b[0;32melse\u001b[0m\u001b[0;34m:\u001b[0m\u001b[0;34m\u001b[0m\u001b[0;34m\u001b[0m\u001b[0m\n\u001b[1;32m    440\u001b[0m                 return format.read_array(fid, allow_pickle=allow_pickle,\n\u001b[0;32m--> 441\u001b[0;31m                                          pickle_kwargs=pickle_kwargs)\n\u001b[0m\u001b[1;32m    442\u001b[0m         \u001b[0;32melse\u001b[0m\u001b[0;34m:\u001b[0m\u001b[0;34m\u001b[0m\u001b[0;34m\u001b[0m\u001b[0m\n\u001b[1;32m    443\u001b[0m             \u001b[0;31m# Try a pickle\u001b[0m\u001b[0;34m\u001b[0m\u001b[0;34m\u001b[0m\u001b[0;34m\u001b[0m\u001b[0m\n",
      "\u001b[0;32m/home/programs/python/anaconda3/envs/vidpenv/lib/python3.7/site-packages/numpy/lib/format.py\u001b[0m in \u001b[0;36mread_array\u001b[0;34m(fp, allow_pickle, pickle_kwargs)\u001b[0m\n\u001b[1;32m    781\u001b[0m             \u001b[0marray\u001b[0m \u001b[0;34m=\u001b[0m \u001b[0marray\u001b[0m\u001b[0;34m.\u001b[0m\u001b[0mtranspose\u001b[0m\u001b[0;34m(\u001b[0m\u001b[0;34m)\u001b[0m\u001b[0;34m\u001b[0m\u001b[0;34m\u001b[0m\u001b[0m\n\u001b[1;32m    782\u001b[0m         \u001b[0;32melse\u001b[0m\u001b[0;34m:\u001b[0m\u001b[0;34m\u001b[0m\u001b[0;34m\u001b[0m\u001b[0m\n\u001b[0;32m--> 783\u001b[0;31m             \u001b[0marray\u001b[0m\u001b[0;34m.\u001b[0m\u001b[0mshape\u001b[0m \u001b[0;34m=\u001b[0m \u001b[0mshape\u001b[0m\u001b[0;34m\u001b[0m\u001b[0;34m\u001b[0m\u001b[0m\n\u001b[0m\u001b[1;32m    784\u001b[0m \u001b[0;34m\u001b[0m\u001b[0m\n\u001b[1;32m    785\u001b[0m     \u001b[0;32mreturn\u001b[0m \u001b[0marray\u001b[0m\u001b[0;34m\u001b[0m\u001b[0;34m\u001b[0m\u001b[0m\n",
      "\u001b[0;31mValueError\u001b[0m: cannot reshape array of size 11975692 into shape (12014614,)"
     ]
    }
   ],
   "source": [
    "tmstp4vid=None\n",
    "for g in groups_whole:\n",
    "    timestamps_events=np.load(g[0])\n",
    "    channel_states=np.load(g[1])\n",
    "    timestamps_lfp=np.load(g[2])\n",
    "    \n",
    "    #print(timestamps_events[channel_states == 1] - timestamps_lfp[0] -1)\n",
    "    \n",
    "    tmstp4vid = timestamps_events[channel_states == 1] - timestamps_lfp[0] -1\n",
    "    print(tmstp4vid[:20]\n",
    "          \n",
    "#tmstp4vid = timestamps_events[channel_states == 1] - timestamps_lfp[0] - 1"
   ]
  },
  {
   "cell_type": "code",
   "execution_count": 149,
   "id": "e633e577-8a5e-486f-bfbc-d828b6af00bf",
   "metadata": {},
   "outputs": [],
   "source": [
    "match=(re.search(\"2021.(\\d+).(\\d+).(\\d+).(\\d+).(\\d+)\", sessionsSYNC[\"Dax\"][\"tmstp_ttl\"][0]))\n",
    "#date = pd.to_datetime(match.group(), format='%Y-%m-%d_%H-%M-%S')\n",
    "\n",
    "newSearch=match.group()\n",
    "\n",
    "match2=(re.search(newSearch, sessionsSYNC[\"Dax\"][\"channelStates_ttl\"][0]))\n",
    "\n",
    "#---------------------------------------------------------------------------\n",
    "# done: TO MATCH LFP TIMESTAMPS YOU NEED TO MATCH NeuroPIX.100.{NEPARNE CISLO}\n",
    "\n",
    "\n",
    "#done: loop over  other files u need ---> if match, then assign file \n",
    "#-> process\n",
    "# save in {create new folder structured as Marco wants it}"
   ]
  },
  {
   "cell_type": "markdown",
   "id": "030d56b4-3b19-47df-be59-42a624e9bd6b",
   "metadata": {},
   "source": [
    "### **3) "
   ]
  },
  {
   "cell_type": "code",
   "execution_count": 152,
   "id": "456b2f8c-6760-414f-a2b8-2a58631bf9b6",
   "metadata": {},
   "outputs": [],
   "source": [
    "#loop over  other files u need ---> if match, then assign file -> process\n",
    "# save in {create new folder structured as Marco wants it}\n",
    "\n",
    "output4files=\"/media/data-119/\"\n",
    "#Rat{rat}-"
   ]
  },
  {
   "cell_type": "code",
   "execution_count": 151,
   "id": "776243ff-b316-41e0-8efb-03a008693a7e",
   "metadata": {},
   "outputs": [
    {
     "data": {
      "text/plain": [
       "'2021-05-25_12-32-00'"
      ]
     },
     "execution_count": 151,
     "metadata": {},
     "output_type": "execute_result"
    }
   ],
   "source": [
    "match2.group()"
   ]
  },
  {
   "cell_type": "code",
   "execution_count": null,
   "id": "5b7adc5a-1916-4e0e-8223-081bf5f9c1ed",
   "metadata": {},
   "outputs": [],
   "source": []
  }
 ],
 "metadata": {
  "kernelspec": {
   "display_name": "vidpenv",
   "language": "python",
   "name": "vidpenv"
  },
  "language_info": {
   "codemirror_mode": {
    "name": "ipython",
    "version": 3
   },
   "file_extension": ".py",
   "mimetype": "text/x-python",
   "name": "python",
   "nbconvert_exporter": "python",
   "pygments_lexer": "ipython3",
   "version": "3.7.11"
  }
 },
 "nbformat": 4,
 "nbformat_minor": 5
}
